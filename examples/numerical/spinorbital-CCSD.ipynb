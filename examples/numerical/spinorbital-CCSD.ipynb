{
 "cells": [
  {
   "cell_type": "markdown",
   "id": "81579bfa",
   "metadata": {},
   "source": [
    "# CCSD theory for a closed-shell reference\n",
    "\n",
    "In this notebook we will use wicked to generate and implement equations for the CCSD method.\n",
    "To simplify this notebook some of the utility functions are imported from the file `examples_helpers.py`.\n",
    "In this example, we run a CCSD computation on the H<sub>6</sub> molecule, reading all the relevant information from the file `sr-h6-sto-3g.npy`."
   ]
  },
  {
   "cell_type": "code",
   "execution_count": 1,
   "id": "caa5d04c",
   "metadata": {},
   "outputs": [],
   "source": [
    "import time\n",
    "import wicked as w\n",
    "import numpy as np\n",
    "from examples_helpers import *"
   ]
  },
  {
   "cell_type": "markdown",
   "id": "1601889d",
   "metadata": {},
   "source": [
    "## Read calculation information (integrals, number of orbitals)\n",
    "\n",
    "We start by reading information about the reference state, integrals, and denominators from the file `sr-h6-sto-3g.npy`. The variable `H` is a dictionary that holds the blocks of the Hamiltonian **normal-ordered** with respect to the Hartree–Fock determinant. `invD` similarly is a dictionary that stores the denominators $(\\epsilon_i + \\epsilon_j + \\ldots - \\epsilon_a - \\epsilon_b - \\ldots)^{-1}$."
   ]
  },
  {
   "cell_type": "code",
   "execution_count": 2,
   "id": "3f8328a7",
   "metadata": {},
   "outputs": [],
   "source": [
    "molecule = \"sr-h6-sto-3g\"\n",
    "\n",
    "with open(f'{molecule}.npy', 'rb') as f:\n",
    "    Eref = np.load(f)\n",
    "    nocc, nvir = np.load(f)\n",
    "    H = np.load(f, allow_pickle=True).item()\n",
    "\n",
    "invD = compute_inverse_denominators(H,nocc,nvir,2)"
   ]
  },
  {
   "cell_type": "markdown",
   "id": "41e2d3f1",
   "metadata": {},
   "source": [
    "## Compute the Hartree–Fock and MP2 energy\n",
    "\n",
    "To verify that the Hamiltonian is read correctly, we compute the MP2 correlation energy"
   ]
  },
  {
   "cell_type": "code",
   "execution_count": 3,
   "id": "afb93fee",
   "metadata": {},
   "outputs": [
    {
     "name": "stdout",
     "output_type": "stream",
     "text": [
      "MP2 correlation energy: -0.066236921094 Eh\n"
     ]
    }
   ],
   "source": [
    "# Compute the MP2 correlation energy\n",
    "Emp2 = 0.0\n",
    "for i in range(nocc):\n",
    "    for j in range(nocc):\n",
    "        for a in range(nvir):\n",
    "            for b in range(nvir):\n",
    "                Emp2 += 0.25 * H[\"oovv\"][i][j][a][b] ** 2 * invD[\"oovv\"][i][j][a][b]\n",
    "\n",
    "print(f\"MP2 correlation energy: {Emp2:.12f} Eh\")"
   ]
  },
  {
   "cell_type": "markdown",
   "id": "5b57b4a2",
   "metadata": {},
   "source": [
    "## Define orbital spaces and the Hamiltonian and cluster operators\n",
    "\n",
    "Here we define the cluster operator (`Top`) and the Hamiltonian (`Hop`) that will be used to derive the CCSD equations. We also define the similarity-transformed Hamiltonian $\\bar{H}$ truncated at the four-nested commutator:\n",
    "\n",
    "\\begin{equation}\n",
    "\\bar{H} = \\hat{H} + [\\hat{H},\\hat{T}] + \\frac{1}{2} [[\\hat{H},\\hat{T}],\\hat{T}]\n",
    "+ \\frac{1}{6} [[[\\hat{H},\\hat{T}],\\hat{T}],\\hat{T}]\n",
    "+ \\frac{1}{24} [[[[\\hat{H},\\hat{T}],\\hat{T}],\\hat{T}],\\hat{T}] + \\ldots\n",
    "\\end{equation}"
   ]
  },
  {
   "cell_type": "code",
   "execution_count": 4,
   "id": "67ccf97e",
   "metadata": {},
   "outputs": [],
   "source": [
    "w.reset_space()\n",
    "w.add_space(\"o\", \"fermion\", \"occupied\", [\"i\", \"j\", \"k\", \"l\", \"m\", \"n\"])\n",
    "w.add_space(\"v\", \"fermion\", \"unoccupied\", [\"a\", \"b\", \"c\", \"d\", \"e\", \"f\"])\n",
    "\n",
    "Top = w.op(\"T\", [\"v+ o\", \"v+ v+ o o\"])\n",
    "Hop = w.utils.gen_op(\"H\",1,\"ov\",\"ov\") + w.utils.gen_op(\"H\",2,\"ov\",\"ov\")\n",
    "# the similarity-transformed Hamiltonian truncated to the four-nested commutator term\n",
    "Hbar = w.bch_series(Hop,Top,4)"
   ]
  },
  {
   "cell_type": "markdown",
   "id": "abf2dc84",
   "metadata": {},
   "source": [
    "In the following lines, we apply Wick's theorem to simplify the similarity-transformed Hamiltonian $\\bar{H}$ computing all contributions ranging from operator rank 0 to 4 (double substitutions).\n",
    "Then we convert all the terms into many-body equations accumulated into the residual `R`."
   ]
  },
  {
   "cell_type": "code",
   "execution_count": 5,
   "id": "9c56be6b",
   "metadata": {},
   "outputs": [],
   "source": [
    "wt = w.WickTheorem()\n",
    "expr = wt.contract(w.rational(1), Hbar, 0, 4)\n",
    "mbeq = expr.to_manybody_equation(\"R\")"
   ]
  },
  {
   "cell_type": "markdown",
   "id": "7c1a291b",
   "metadata": {},
   "source": [
    "Here we finally generate the CCSD equations. We use the utility function `generate_equation` to extract the equations corresponding to a given number of creation and annihilation operators and generated Python functions that we then define with the command `exec`"
   ]
  },
  {
   "cell_type": "code",
   "execution_count": 6,
   "id": "9e117a39",
   "metadata": {},
   "outputs": [
    {
     "name": "stdout",
     "output_type": "stream",
     "text": [
      "def evaluate_residual_0_0(H,T):\n",
      "    # contributions to the residual\n",
      "    R = 0.0\n",
      "    R += 1.000000000 * np.einsum(\"ai,ia->\",H[\"vo\"],T[\"ov\"],optimize=\"optimal\")\n",
      "    R += 0.250000000 * np.einsum(\"abij,ijab->\",H[\"vvoo\"],T[\"oovv\"],optimize=\"optimal\")\n",
      "    R += 0.500000000 * np.einsum(\"abij,jb,ia->\",H[\"vvoo\"],T[\"ov\"],T[\"ov\"],optimize=\"optimal\")\n",
      "    return R\n"
     ]
    }
   ],
   "source": [
    "energy_eq = generate_equation(mbeq, 0,0)\n",
    "t1_eq = generate_equation(mbeq, 1,1)\n",
    "t2_eq = generate_equation(mbeq, 2,2)\n",
    "\n",
    "exec(energy_eq)\n",
    "exec(t1_eq)\n",
    "exec(t2_eq)\n",
    "\n",
    "# show what do these functions look like\n",
    "print(energy_eq)"
   ]
  },
  {
   "cell_type": "markdown",
   "id": "e3b8cb04",
   "metadata": {},
   "source": [
    "## CCSD algorithm\n",
    "\n",
    "Here we code a simple loop in which we evaluate the energy and residuals of the CCSD equations and update the amplitudes"
   ]
  },
  {
   "cell_type": "code",
   "execution_count": 7,
   "id": "b1183237",
   "metadata": {},
   "outputs": [
    {
     "name": "stdout",
     "output_type": "stream",
     "text": [
      "-----------------------------------------------------------\n",
      "Iter.     Energy [Eh]    Corr. energy [Eh]       |R|       \n",
      "-----------------------------------------------------------\n",
      "  0    -3.111429681878    +0.000000000000    7.023516e-01\n",
      "  1    -3.177666602972    -0.066236921094    2.703474e-01\n",
      "  2    -3.200376118309    -0.088946436431    1.217901e-01\n",
      "  3    -3.210146292908    -0.098716611030    6.159876e-02\n",
      "  4    -3.214486966896    -0.103057285019    3.406897e-02\n",
      "  5    -3.216580748075    -0.105151066198    2.036844e-02\n",
      "  6    -3.217630916990    -0.106201235112    1.283723e-02\n",
      "  7    -3.218192853277    -0.106763171400    8.324145e-03\n",
      "  8    -3.218507725256    -0.107078043378    5.488428e-03\n",
      "  9    -3.218693412710    -0.107263730832    3.648039e-03\n",
      " 10    -3.218806802192    -0.107377120315    2.437192e-03\n",
      " 11    -3.218878180015    -0.107448498137    1.632438e-03\n",
      " 12    -3.218923995682    -0.107494313804    1.095330e-03\n",
      " 13    -3.218953847724    -0.107524165846    7.356232e-04\n",
      " 14    -3.218973482539    -0.107543800661    4.943600e-04\n",
      " 15    -3.218986486096    -0.107556804218    3.323383e-04\n",
      " 16    -3.218995135804    -0.107565453926    2.234690e-04\n",
      " 17    -3.219000907557    -0.107571225679    1.502818e-04\n",
      " 18    -3.219004766937    -0.107575085059    1.010713e-04\n",
      " 19    -3.219007351462    -0.107577669584    6.797739e-05\n",
      " 20    -3.219009084049    -0.107579402171    4.572026e-05\n",
      " 21    -3.219010246412    -0.107580564534    3.075065e-05\n",
      " 22    -3.219011026652    -0.107581344774    2.068232e-05\n",
      " 23    -3.219011550609    -0.107581868731    1.391045e-05\n",
      " 24    -3.219011902573    -0.107582220695    9.355786e-06\n",
      " 25    -3.219012139059    -0.107582457181    6.292394e-06\n",
      " 26    -3.219012297985    -0.107582616107    4.232026e-06\n",
      " 27    -3.219012404803    -0.107582722925    2.846281e-06\n",
      " 28    -3.219012476607    -0.107582794729    1.914276e-06\n",
      " 29    -3.219012524878    -0.107582843000    1.287446e-06\n",
      " 30    -3.219012557331    -0.107582875454    8.658674e-07\n",
      " 31    -3.219012579152    -0.107582897274    5.823340e-07\n",
      " 32    -3.219012593823    -0.107582911946    3.916439e-07\n",
      " 33    -3.219012603689    -0.107582921811    2.633962e-07\n",
      " 34    -3.219012610323    -0.107582928445    1.771440e-07\n",
      " 35    -3.219012614784    -0.107582932906    1.191359e-07\n",
      " 36    -3.219012617783    -0.107582935906    8.012312e-08\n",
      " 37    -3.219012619801    -0.107582937923    5.388558e-08\n",
      " 38    -3.219012621157    -0.107582939280    3.623988e-08\n",
      " 39    -3.219012622070    -0.107582940192    2.437252e-08\n",
      " 40    -3.219012622683    -0.107582940805    1.639132e-08\n",
      " 41    -3.219012623096    -0.107582941218    1.102369e-08\n",
      " 42    -3.219012623373    -0.107582941496    7.413780e-09\n",
      "-----------------------------------------------------------\n",
      "CCSD total energy                   -3.219012623373 [Eh]\n",
      "CCSD correlation energy             -0.107582941496 [Eh]\n",
      "Reference CCSD correlation energy   -0.107582941213 [Eh]\n",
      "Error                               -2.825710915255e-10 [Eh]\n",
      "Timing                              +1.613265000000e-01 [s]\n"
     ]
    }
   ],
   "source": [
    "Ecorr_ref  = -0.107582941213 # from psi4numpy (H6)\n",
    "\n",
    "T = {\"ov\" : np.zeros((nocc,nvir)),\n",
    "     \"oovv\" : np.zeros((nocc,nocc,nvir,nvir))}\n",
    "\n",
    "header = \"Iter.     Energy [Eh]    Corr. energy [Eh]       |R|       \"\n",
    "print(\"-\" * len(header))\n",
    "print(header)\n",
    "print(\"-\" * len(header))\n",
    "\n",
    "start = time.perf_counter()\n",
    "\n",
    "maxiter = 50\n",
    "\n",
    "for i in range(maxiter):\n",
    "    # 1. compute energy and residuals\n",
    "    R = {}\n",
    "    Ecorr_w = evaluate_residual_0_0(H,T)\n",
    "    Etot_w = Eref + Ecorr_w\n",
    "    R['ov'] = evaluate_residual_1_1(H,T)\n",
    "    Roovv = evaluate_residual_2_2(H,T)\n",
    "    R['oovv'] = antisymmetrize_residual_2_2(Roovv,nocc,nvir)\n",
    "\n",
    "    # 2. amplitude update\n",
    "    update_amplitudes_ccsd(T,R,invD)\n",
    "\n",
    "    # 3. check for convergence\n",
    "    norm_R = np.sqrt(np.linalg.norm(R['ov'])**2 + np.linalg.norm(R['oovv'])**2)\n",
    "    print(f\"{i:3d}    {Etot_w:+.12f}    {Ecorr_w:+.12f}    {norm_R:e}\") \n",
    "    if norm_R < 1.0e-8:\n",
    "        break\n",
    "        \n",
    "end = time.perf_counter()\n",
    "t = end - start        \n",
    "        \n",
    "print(\"-\" * len(header))    \n",
    "print(f\"CCSD total energy                   {Etot_w:+.12f} [Eh]\")\n",
    "print(f\"CCSD correlation energy             {Ecorr_w:+.12f} [Eh]\")\n",
    "print(f\"Reference CCSD correlation energy   {Ecorr_ref:+.12f} [Eh]\")\n",
    "print(f\"Error                               {Ecorr_w - Ecorr_ref:+.12e} [Eh]\")\n",
    "print(f\"Timing                              {t:+.12e} [s]\")\n",
    "assert np.isclose(Ecorr_w, Ecorr_ref)"
   ]
  }
 ],
 "metadata": {
  "kernelspec": {
   "display_name": "Python 3 (ipykernel)",
   "language": "python",
   "name": "python3"
  },
  "language_info": {
   "codemirror_mode": {
    "name": "ipython",
    "version": 3
   },
   "file_extension": ".py",
   "mimetype": "text/x-python",
   "name": "python",
   "nbconvert_exporter": "python",
   "pygments_lexer": "ipython3",
   "version": "3.9.12"
  }
 },
 "nbformat": 4,
 "nbformat_minor": 5
}
