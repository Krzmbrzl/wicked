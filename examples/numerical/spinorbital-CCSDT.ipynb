{
 "cells": [
  {
   "cell_type": "markdown",
   "id": "81579bfa",
   "metadata": {},
   "source": [
    "# CCSDT theory for a closed-shell reference\n",
    "\n",
    "This notebook extends the `spinorbital-CCSD` notebook to compute CCSDT"
   ]
  },
  {
   "cell_type": "code",
   "execution_count": 1,
   "id": "caa5d04c",
   "metadata": {},
   "outputs": [],
   "source": [
    "import time\n",
    "import wicked as w\n",
    "import numpy as np\n",
    "from examples_helpers import *"
   ]
  },
  {
   "cell_type": "markdown",
   "id": "1601889d",
   "metadata": {},
   "source": [
    "## Read calculation information (integrals, number of orbitals)\n",
    "\n",
    "We start by reading information about the reference state, integrals, and denominators from the file `sr-h6-sto-3g.npy`. The variable `H` is a dictionary that holds the blocks of the Hamiltonian **normal-ordered** with respect to the Hartree–Fock determinant. `invD` similarly is a dictionary that stores the denominators $(\\epsilon_i + \\epsilon_j + \\ldots - \\epsilon_a - \\epsilon_b - \\ldots)^{-1}$."
   ]
  },
  {
   "cell_type": "code",
   "execution_count": 2,
   "id": "3f8328a7",
   "metadata": {},
   "outputs": [],
   "source": [
    "molecule = \"sr-h6-sto-3g\"\n",
    "\n",
    "with open(f\"{molecule}.npy\", \"rb\") as f:\n",
    "    Eref = np.load(f)\n",
    "    nocc, nvir = np.load(f)\n",
    "    H = np.load(f, allow_pickle=True).item()\n",
    "\n",
    "invD = compute_inverse_denominators(H, nocc, nvir, 3)"
   ]
  },
  {
   "cell_type": "markdown",
   "id": "5b57b4a2",
   "metadata": {},
   "source": [
    "## Define orbital spaces and the Hamiltonian and cluster operators"
   ]
  },
  {
   "cell_type": "code",
   "execution_count": 3,
   "id": "67ccf97e",
   "metadata": {},
   "outputs": [],
   "source": [
    "w.reset_space()\n",
    "w.add_space(\"o\", \"fermion\", \"occupied\", [\"i\", \"j\", \"k\", \"l\", \"m\", \"n\"])\n",
    "w.add_space(\"v\", \"fermion\", \"unoccupied\", [\"a\", \"b\", \"c\", \"d\", \"e\", \"f\"])\n",
    "\n",
    "Top = w.op(\"T\", [\"v+ o\", \"v+ v+ o o\", \"v+ v+ v+ o o o\"])\n",
    "Hop = w.utils.gen_op(\"H\", 1, \"ov\", \"ov\") + w.utils.gen_op(\"H\", 2, \"ov\", \"ov\")\n",
    "# the similarity-transformed Hamiltonian truncated to the four-nested commutator term\n",
    "Hbar = w.bch_series(Hop, Top, 4)"
   ]
  },
  {
   "cell_type": "markdown",
   "id": "abf2dc84",
   "metadata": {},
   "source": [
    "In the following lines, we apply Wick's theorem to simplify the similarity-transformed Hamiltonian $\\bar{H}$ computing all contributions ranging from operator rank 0 to 6 (triple substitutions).\n",
    "Then we convert all the terms into many-body equations accumulated into the residual `R`."
   ]
  },
  {
   "cell_type": "code",
   "execution_count": 4,
   "id": "9c56be6b",
   "metadata": {},
   "outputs": [],
   "source": [
    "wt = w.WickTheorem()\n",
    "expr = wt.contract(w.rational(1), Hbar, 0, 6)\n",
    "mbeq = expr.to_manybody_equation(\"R\")"
   ]
  },
  {
   "cell_type": "markdown",
   "id": "7c1a291b",
   "metadata": {},
   "source": [
    "Here we generate the CCSDT equations."
   ]
  },
  {
   "cell_type": "code",
   "execution_count": 5,
   "id": "9e117a39",
   "metadata": {},
   "outputs": [
    {
     "name": "stdout",
     "output_type": "stream",
     "text": [
      "def evaluate_residual_0_0(H,T):\n",
      "    # contributions to the residual\n",
      "    R = 0.0\n",
      "    R += 1.000000000 * np.einsum(\"ai,ia->\",H[\"vo\"],T[\"ov\"],optimize=\"optimal\")\n",
      "    R += 0.250000000 * np.einsum(\"abij,ijab->\",H[\"vvoo\"],T[\"oovv\"],optimize=\"optimal\")\n",
      "    R += 0.500000000 * np.einsum(\"abij,jb,ia->\",H[\"vvoo\"],T[\"ov\"],T[\"ov\"],optimize=\"optimal\")\n",
      "    return R\n"
     ]
    }
   ],
   "source": [
    "energy_eq = generate_equation(mbeq, 0, 0)\n",
    "t1_eq = generate_equation(mbeq, 1, 1)\n",
    "t2_eq = generate_equation(mbeq, 2, 2)\n",
    "t3_eq = generate_equation(mbeq, 3, 3)\n",
    "\n",
    "exec(energy_eq)\n",
    "exec(t1_eq)\n",
    "exec(t2_eq)\n",
    "exec(t3_eq)\n",
    "\n",
    "# show what do these functions look like\n",
    "print(energy_eq)"
   ]
  },
  {
   "cell_type": "markdown",
   "id": "e3b8cb04",
   "metadata": {},
   "source": [
    "## CCSDT algorithm\n",
    "\n",
    "Here we code a simple loop in which we evaluate the energy and residuals of the CCSD equations and update the amplitudes"
   ]
  },
  {
   "cell_type": "code",
   "execution_count": 6,
   "id": "b1183237",
   "metadata": {},
   "outputs": [
    {
     "name": "stdout",
     "output_type": "stream",
     "text": [
      "-----------------------------------------------------------\n",
      "Iter.     Energy [Eh]    Corr. energy [Eh]       |R|       \n",
      "-----------------------------------------------------------\n",
      "  0    -3.111429681878    +0.000000000000    7.023516e-01\n",
      "  1    -3.177666602972    -0.066236921094    2.703474e-01\n",
      "  2    -3.200376118309    -0.088946436431    1.225897e-01\n",
      "  3    -3.210383838248    -0.098954156371    6.252483e-02\n",
      "  4    -3.214892030784    -0.103462348907    3.454680e-02\n",
      "  5    -3.217116525834    -0.105686843956    2.076980e-02\n",
      "  6    -3.218248005608    -0.106818323730    1.331300e-02\n",
      "  7    -3.218860537997    -0.107430856119    8.858236e-03\n",
      "  8    -3.219205963143    -0.107776281266    6.038065e-03\n",
      "  9    -3.219411326566    -0.107981644688    4.160130e-03\n",
      " 10    -3.219537868209    -0.108108186331    2.888977e-03\n",
      " 11    -3.219618760436    -0.108189078559    2.012442e-03\n",
      " 12    -3.219671683785    -0.108242001907    1.405926e-03\n",
      " 13    -3.219707045958    -0.108277364080    9.832319e-04\n",
      " 14    -3.219730974006    -0.108301292128    6.884477e-04\n",
      " 15    -3.219747341649    -0.108317659771    4.822440e-04\n",
      " 16    -3.219758609369    -0.108328927492    3.379831e-04\n",
      " 17    -3.219766408157    -0.108336726279    2.369215e-04\n",
      " 18    -3.219771823329    -0.108342141451    1.661202e-04\n",
      " 19    -3.219775593614    -0.108345911737    1.164879e-04\n",
      " 20    -3.219778223044    -0.108348541166    8.169449e-05\n",
      " 21    -3.219780059429    -0.108350377551    5.729627e-05\n",
      " 22    -3.219781343130    -0.108351661252    4.018719e-05\n",
      " 23    -3.219782241185    -0.108352559307    2.818784e-05\n",
      " 24    -3.219782869783    -0.108353187905    1.977202e-05\n",
      " 25    -3.219783309973    -0.108353628095    1.386911e-05\n",
      " 26    -3.219783618327    -0.108353936449    9.728709e-06\n",
      " 27    -3.219783834389    -0.108354152511    6.824444e-06\n",
      " 28    -3.219783985815    -0.108354303937    4.787237e-06\n",
      " 29    -3.219784091959    -0.108354410081    3.358199e-06\n",
      " 30    -3.219784166372    -0.108354484495    2.355763e-06\n",
      " 31    -3.219784218547    -0.108354536669    1.652569e-06\n",
      " 32    -3.219784255132    -0.108354573255    1.159285e-06\n",
      " 33    -3.219784280788    -0.108354598911    8.132470e-07\n",
      " 34    -3.219784298781    -0.108354616903    5.705013e-07\n",
      " 35    -3.219784311400    -0.108354629522    4.002139e-07\n",
      " 36    -3.219784320251    -0.108354638373    2.807560e-07\n",
      " 37    -3.219784326458    -0.108354644581    1.969549e-07\n",
      " 38    -3.219784330813    -0.108354648935    1.381674e-07\n",
      " 39    -3.219784333867    -0.108354651989    9.692705e-08\n",
      " 40    -3.219784336009    -0.108354654132    6.799626e-08\n",
      " 41    -3.219784337512    -0.108354655635    4.770080e-08\n",
      " 42    -3.219784338566    -0.108354656689    3.346314e-08\n",
      " 43    -3.219784339306    -0.108354657428    2.347514e-08\n",
      " 44    -3.219784339825    -0.108354657947    1.646834e-08\n",
      " 45    -3.219784340189    -0.108354658311    1.155292e-08\n",
      " 46    -3.219784340444    -0.108354658566    8.104647e-09\n",
      "-----------------------------------------------------------\n",
      "CCSDT total energy                   -3.219784340444 [Eh]\n",
      "CCSDT correlation energy             -0.108354658566 [Eh]\n",
      "Reference CCSDT correlation energy   -0.108354659115 [Eh]\n",
      "Error                               +5.487632293022e-10 [Eh]\n",
      "Timing                              +1.924095000000e+00 [s]\n"
     ]
    }
   ],
   "source": [
    "Ecorr_ref = -0.108354659115  # from forte sparse implementation\n",
    "\n",
    "T = {\n",
    "    \"ov\": np.zeros((nocc, nvir)),\n",
    "    \"oovv\": np.zeros((nocc, nocc, nvir, nvir)),\n",
    "    \"ooovvv\": np.zeros((nocc, nocc, nocc, nvir, nvir, nvir)),\n",
    "}\n",
    "\n",
    "header = \"Iter.     Energy [Eh]    Corr. energy [Eh]       |R|       \"\n",
    "print(\"-\" * len(header))\n",
    "print(header)\n",
    "print(\"-\" * len(header))\n",
    "\n",
    "start = time.perf_counter()\n",
    "\n",
    "maxiter = 50\n",
    "\n",
    "for i in range(maxiter):\n",
    "    # 1. compute energy and residuals\n",
    "    R = {}\n",
    "    Ecorr_w = evaluate_residual_0_0(H, T)\n",
    "    Etot_w = Eref + Ecorr_w\n",
    "    R[\"ov\"] = evaluate_residual_1_1(H, T)\n",
    "    Roovv = evaluate_residual_2_2(H, T)\n",
    "    R[\"oovv\"] = antisymmetrize_residual_2_2(Roovv, nocc, nvir)\n",
    "    Rooovvv = evaluate_residual_3_3(H, T)\n",
    "    R[\"ooovvv\"] = antisymmetrize_residual_3_3(Rooovvv, nocc, nvir)\n",
    "\n",
    "    # 2. amplitude update\n",
    "    update_cc_amplitudes(T, R, invD, 3)\n",
    "\n",
    "    # 3. check for convergence\n",
    "    norm_R = np.sqrt(np.linalg.norm(R[\"ov\"]) ** 2 + np.linalg.norm(R[\"oovv\"]) ** 2)\n",
    "    print(f\"{i:3d}    {Etot_w:+.12f}    {Ecorr_w:+.12f}    {norm_R:e}\")\n",
    "    if norm_R < 1.0e-8:\n",
    "        break\n",
    "\n",
    "end = time.perf_counter()\n",
    "t = end - start\n",
    "\n",
    "print(\"-\" * len(header))\n",
    "print(f\"CCSDT total energy                   {Etot_w:+.12f} [Eh]\")\n",
    "print(f\"CCSDT correlation energy             {Ecorr_w:+.12f} [Eh]\")\n",
    "print(f\"Reference CCSDT correlation energy   {Ecorr_ref:+.12f} [Eh]\")\n",
    "print(f\"Error                               {Ecorr_w - Ecorr_ref:+.12e} [Eh]\")\n",
    "print(f\"Timing                              {t:+.12e} [s]\")\n",
    "assert np.isclose(Ecorr_w, Ecorr_ref)"
   ]
  }
 ],
 "metadata": {
  "kernelspec": {
   "display_name": "Python 3 (ipykernel)",
   "language": "python",
   "name": "python3"
  },
  "language_info": {
   "codemirror_mode": {
    "name": "ipython",
    "version": 3
   },
   "file_extension": ".py",
   "mimetype": "text/x-python",
   "name": "python",
   "nbconvert_exporter": "python",
   "pygments_lexer": "ipython3",
   "version": "3.9.12"
  }
 },
 "nbformat": 4,
 "nbformat_minor": 5
}
