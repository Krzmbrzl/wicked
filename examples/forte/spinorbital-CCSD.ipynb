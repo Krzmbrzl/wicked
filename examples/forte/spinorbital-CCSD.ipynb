{
 "cells": [
  {
   "cell_type": "markdown",
   "id": "81579bfa",
   "metadata": {},
   "source": [
    "# CCSD theory for a closed-shell reference\n",
    "\n",
    "In this notebook we will use wicked to generate equations for the CCSD method"
   ]
  },
  {
   "cell_type": "code",
   "execution_count": null,
   "id": "caa5d04c",
   "metadata": {},
   "outputs": [],
   "source": [
    "import wicked as w\n",
    "\n",
    "import psi4\n",
    "import forte\n",
    "import forte.utils\n",
    "from forte import forte_options\n",
    "import numpy as np\n",
    "import time"
   ]
  },
  {
   "cell_type": "code",
   "execution_count": null,
   "id": "67ccf97e",
   "metadata": {},
   "outputs": [],
   "source": [
    "w.reset_space()\n",
    "w.add_space(\"o\", \"fermion\", \"occupied\", [\"i\", \"j\", \"k\", \"l\", \"m\", \"n\"])\n",
    "w.add_space(\"v\", \"fermion\", \"unoccupied\", [\"a\", \"b\", \"c\", \"d\", \"e\", \"f\"])\n",
    "\n",
    "Top = w.op(\"T\", [\"v+ o\", \"v+ v+ o o\"])\n",
    "Hop = w.utils.gen_op(\"H\",1,\"ov\",\"ov\") + w.utils.gen_op(\"H\",2,\"ov\",\"ov\")"
   ]
  },
  {
   "cell_type": "code",
   "execution_count": null,
   "id": "9e117a39",
   "metadata": {},
   "outputs": [],
   "source": [
    "wt = w.WickTheorem()\n",
    "Hbar = w.bch_series(Hop,Top,4)\n",
    "expr = wt.contract(w.rational(1), Hbar, 0, 4)\n",
    "mbeq = expr.to_manybody_equation(\"R\")\n",
    "\n",
    "def generate_equation(mbeq, nocc, nvir):\n",
    "    res_sym = f\"R{'o' * nocc}{'v' * nvir}\"\n",
    "    code = [f\"def evaluate_residual_{nocc}_{nvir}(H,T):\",\n",
    "        \"    # contributions to the residual\"]\n",
    "    if nocc + nvir == 0:\n",
    "        code.append(\"    R = 0.0\")\n",
    "    else:\n",
    "        dims = ','.join(['nocc'] * nocc + ['nvir'] * nvir)\n",
    "        code.append(f\"    {res_sym} = np.zeros(({dims}))\")\n",
    "    for eq in mbeq[\"o\" * nocc + \"|\" + \"v\" * nvir]:\n",
    "        contraction = eq.compile(\"einsum\")\n",
    "        code.append(f'    {contraction}')\n",
    "    code.append(f'    return {res_sym}')\n",
    "    funct = '\\n'.join(code)\n",
    "    print(f'\\n\\n{funct}\\n')\n",
    "    return funct\n",
    "\n",
    "energy_eq = generate_equation(mbeq, 0,0)\n",
    "exec(energy_eq)\n",
    "t1_eq = generate_equation(mbeq, 1,1)\n",
    "exec(t1_eq)\n",
    "t2_eq = generate_equation(mbeq, 2,2)\n",
    "exec(t2_eq)"
   ]
  },
  {
   "cell_type": "markdown",
   "id": "41e2d3f1",
   "metadata": {},
   "source": [
    "## Compute the Hartree–Fock and MP2 energy"
   ]
  },
  {
   "cell_type": "code",
   "execution_count": null,
   "id": "e00b1627",
   "metadata": {},
   "outputs": [],
   "source": [
    "# setup xyz geometry for linear H4\n",
    "geometry = \"\"\"\n",
    "H 0.0 0.0 0.0\n",
    "H 0.0 0.0 1.0\n",
    "H 0.0 0.0 2.0\n",
    "H 0.0 0.0 3.0\n",
    "H 0.0 0.0 4.0\n",
    "H 0.0 0.0 5.1\n",
    "symmetry c1\n",
    "\"\"\"\n",
    "\n",
    "(Escf, psi4_wfn) = forte.utils.psi4_scf(geometry,\n",
    "                                        basis='sto-3g',\n",
    "                                        reference='rhf',\n",
    "                                        options={'E_CONVERGENCE' : 1.e-12})"
   ]
  },
  {
   "cell_type": "markdown",
   "id": "df1ea2a6",
   "metadata": {},
   "source": [
    "## Prepare integrals for Forte"
   ]
  },
  {
   "cell_type": "code",
   "execution_count": null,
   "id": "cbd666c9",
   "metadata": {},
   "outputs": [],
   "source": [
    "# Define the orbital spaces\n",
    "mo_spaces = {'RESTRICTED_DOCC': [3],'RESTRICTED_UOCC': [3]}\n",
    "\n",
    "# pass Psi4 options to Forte\n",
    "options = psi4.core.get_options()\n",
    "options.set_current_module('FORTE')\n",
    "forte_options.get_options_from_psi4(options)\n",
    "\n",
    "# Grab the number of MOs per irrep\n",
    "nmopi = psi4_wfn.nmopi()\n",
    "# Grab the point group symbol (e.g. \"C2V\")\n",
    "point_group = psi4_wfn.molecule().point_group().symbol()\n",
    "# create a MOSpaceInfo object\n",
    "mo_space_info = forte.make_mo_space_info_from_map(nmopi, point_group,mo_spaces, [])\n",
    "# make a ForteIntegral object\n",
    "ints = forte.make_ints_from_psi4(psi4_wfn, forte_options, mo_space_info)"
   ]
  },
  {
   "cell_type": "markdown",
   "id": "1f580b0d",
   "metadata": {},
   "source": [
    "## Define orbital spaces and dimensions"
   ]
  },
  {
   "cell_type": "code",
   "execution_count": null,
   "id": "a8009e67",
   "metadata": {},
   "outputs": [],
   "source": [
    "occmos = mo_space_info.corr_absolute_mo('RESTRICTED_DOCC')\n",
    "virmos = mo_space_info.corr_absolute_mo('RESTRICTED_UOCC')\n",
    "allmos = mo_space_info.corr_absolute_mo('CORRELATED')\n",
    "nocc = 2 * len(occmos)\n",
    "nvir = 2 * len(virmos)"
   ]
  },
  {
   "cell_type": "markdown",
   "id": "d4a80d4c",
   "metadata": {},
   "source": [
    "## Build the Fock matrix and the zeroth-order Fock matrix"
   ]
  },
  {
   "cell_type": "code",
   "execution_count": null,
   "id": "40139b10",
   "metadata": {},
   "outputs": [],
   "source": [
    "H = {'oo': forte.spinorbital_fock(ints,occmos, occmos,occmos),\n",
    "     'vv': forte.spinorbital_fock(ints,virmos, virmos,occmos),\n",
    "     'ov': forte.spinorbital_fock(ints,occmos, virmos,occmos),\n",
    "     'vo': forte.spinorbital_fock(ints,occmos, virmos,occmos),     \n",
    "     'oovv' : forte.spinorbital_tei(ints,occmos,occmos,virmos,virmos),\n",
    "     'ooov' : forte.spinorbital_tei(ints,occmos,occmos,occmos,virmos),\n",
    "     'vvvv' : forte.spinorbital_tei(ints,virmos,virmos,virmos,virmos),\n",
    "     'vvoo' : forte.spinorbital_tei(ints,virmos,virmos,occmos,occmos),\n",
    "     'ovov' : forte.spinorbital_tei(ints,occmos,virmos,occmos,virmos),\n",
    "     'ovvv' : forte.spinorbital_tei(ints,occmos,virmos,virmos,virmos),\n",
    "     'vvov' : forte.spinorbital_tei(ints,virmos,virmos,occmos,virmos),\n",
    "     'ovoo' : forte.spinorbital_tei(ints,occmos,virmos,occmos,occmos),\n",
    "     'oooo' : forte.spinorbital_tei(ints,occmos,occmos,occmos,occmos)}"
   ]
  },
  {
   "cell_type": "markdown",
   "id": "769874c0",
   "metadata": {},
   "source": [
    "## Build the MP denominators"
   ]
  },
  {
   "cell_type": "code",
   "execution_count": null,
   "id": "ce344147",
   "metadata": {},
   "outputs": [],
   "source": [
    "fo = np.diag(H['oo'])\n",
    "fv = np.diag(H['vv'])\n",
    "\n",
    "D = {}\n",
    "\n",
    "d1 = np.zeros((nocc,nvir))\n",
    "for i in range(nocc):\n",
    "    for a in range(nvir):\n",
    "        si = i % 2\n",
    "        sa = a % 2\n",
    "        if si == sa:\n",
    "            d1[i][a] = 1.0 / (fo[i] - fv[a])\n",
    "D['ov'] = d1\n",
    "            \n",
    "                    \n",
    "d2 = np.zeros((nocc,nocc,nvir,nvir))\n",
    "for i in range(nocc):\n",
    "    for j in range(nocc):\n",
    "        for a in range(nvir):\n",
    "            for b in range(nvir):\n",
    "                si = i % 2\n",
    "                sj = j % 2\n",
    "                sa = a % 2\n",
    "                sb = b % 2\n",
    "                if si == sj == sa == sb:\n",
    "                    d2[i][j][a][b] = 1.0 / (fo[i] + fo[j] - fv[a] - fv[b])\n",
    "                if si == sa and sj == sb and si != sj:\n",
    "                    d2[i][j][a][b] = 1.0 / (fo[i] + fo[j] - fv[a] - fv[b])\n",
    "                if si == sb and sj == sa and si != sj:\n",
    "                    d2[i][j][a][b] = 1.0 / (fo[i] + fo[j] - fv[a] - fv[b])                    \n",
    "D['oovv'] = d2"
   ]
  },
  {
   "cell_type": "code",
   "execution_count": null,
   "id": "afb93fee",
   "metadata": {},
   "outputs": [],
   "source": [
    "# Compute the MP2 correlation energy\n",
    "Emp2 = 0.0\n",
    "for i in range(nocc):\n",
    "    for j in range(nocc):\n",
    "        for a in range(nvir):\n",
    "            for b in range(nvir):\n",
    "                Emp2 += 0.25 * H[\"oovv\"][i][j][a][b] ** 2 / (fo[i] + fo[j] - fv[a] - fv[b])\n",
    "print(f\"MP2 corr. energy: {Emp2:.12f} Eh\")"
   ]
  },
  {
   "cell_type": "code",
   "execution_count": null,
   "id": "9bc86ae2",
   "metadata": {},
   "outputs": [],
   "source": [
    "def antisymmetrize_residual_2_2(Roovv):\n",
    "    # antisymmetrize the residual\n",
    "    Roovv_anti = np.zeros((nocc,nocc,nvir,nvir))\n",
    "    Roovv_anti += np.einsum(\"ijab->ijab\",Roovv)\n",
    "    Roovv_anti -= np.einsum(\"ijab->jiab\",Roovv)\n",
    "    Roovv_anti -= np.einsum(\"ijab->ijba\",Roovv)\n",
    "    Roovv_anti += np.einsum(\"ijab->jiba\",Roovv)    \n",
    "    return Roovv_anti\n",
    "\n",
    "def update_amplitudes(T,R,d):\n",
    "    T['ov'] += np.einsum(\"ia,ia->ia\",R['ov'],D['ov'])\n",
    "    T['oovv'] += np.einsum(\"ijab,ijab->ijab\",R['oovv'],D['oovv'])"
   ]
  },
  {
   "cell_type": "code",
   "execution_count": null,
   "id": "b1183237",
   "metadata": {},
   "outputs": [],
   "source": [
    "ref_CCSD  = -0.107582941213 # from psi4numpy (H6)\n",
    "\n",
    "T = {}\n",
    "T[\"ov\"] = np.zeros((nocc,nvir))\n",
    "T[\"oovv\"] = np.zeros((nocc,nocc,nvir,nvir))\n",
    "\n",
    "header = \"Iter.    Corr. energy       |R|       \"\n",
    "print(\"-\" * len(header))\n",
    "print(header)\n",
    "print(\"-\" * len(header))\n",
    "\n",
    "start = time.perf_counter()\n",
    "\n",
    "maxiter = 40\n",
    "for i in range(maxiter):\n",
    "    R = {}\n",
    "    Ewicked = float(evaluate_residual_0_0(H,T))\n",
    "    R['ov'] = evaluate_residual_1_1(H,T)\n",
    "    Roovv = evaluate_residual_2_2(H,T)\n",
    "    R['oovv'] = antisymmetrize_residual_2_2(Roovv)\n",
    "\n",
    "    update_amplitudes(T,R,D)\n",
    "\n",
    "    # check for convergence\n",
    "    norm_R = np.sqrt(np.linalg.norm(R['ov'])**2 + np.linalg.norm(R['oovv'])**2)\n",
    "    print(f\"{i:3d}    {Ewicked:+.12f}  {norm_R:e}\") \n",
    "    if norm_R < 1.0e-9:\n",
    "        break\n",
    "        \n",
    "end = time.perf_counter()\n",
    "t = end - start        \n",
    "        \n",
    "print(\"-\" * len(header))    \n",
    "print(f\"CCSD correlation energy: {Ewicked:+.12f} [Eh]\")\n",
    "print(f\"Error:                   {Ewicked - ref_CCSD:+.12e} [Eh]\")\n",
    "print(f\"Timing:                  {t:+.12e} [s]\")"
   ]
  }
 ],
 "metadata": {
  "kernelspec": {
   "display_name": "Python 3 (ipykernel)",
   "language": "python",
   "name": "python3"
  },
  "language_info": {
   "codemirror_mode": {
    "name": "ipython",
    "version": 3
   },
   "file_extension": ".py",
   "mimetype": "text/x-python",
   "name": "python",
   "nbconvert_exporter": "python",
   "pygments_lexer": "ipython3",
   "version": "3.9.12"
  }
 },
 "nbformat": 4,
 "nbformat_minor": 5
}
