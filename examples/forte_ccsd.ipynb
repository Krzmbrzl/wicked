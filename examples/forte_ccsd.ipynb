{
 "cells": [
  {
   "cell_type": "markdown",
   "id": "81579bfa",
   "metadata": {},
   "source": [
    "# CCSD theory for a closed-shell reference\n",
    "\n",
    "In this notebook we will use wicked to generate equations for the CCSD method"
   ]
  },
  {
   "cell_type": "code",
   "execution_count": 1,
   "id": "caa5d04c",
   "metadata": {},
   "outputs": [],
   "source": [
    "import wicked as w\n",
    "\n",
    "import psi4\n",
    "import forte\n",
    "import forte.utils\n",
    "from forte import forte_options\n",
    "import numpy as np"
   ]
  },
  {
   "cell_type": "code",
   "execution_count": 2,
   "id": "67ccf97e",
   "metadata": {},
   "outputs": [],
   "source": [
    "w.reset_space()\n",
    "w.add_space(\"o\", \"fermion\", \"occupied\", [\"i\", \"j\", \"k\", \"l\", \"m\", \"n\"])\n",
    "w.add_space(\"v\", \"fermion\", \"unoccupied\", [\"a\", \"b\", \"c\", \"d\", \"e\", \"f\"])\n",
    "\n",
    "Top = w.op(\"T\", [\"v+ o\", \"v+ v+ o o\"])\n",
    "Hop = w.op(\n",
    "    \"H\",\n",
    "   [\"o+ o\",\n",
    "    \"v+ v\",\n",
    "    \"o+ v\", \n",
    "    \"v+ o\",\n",
    "    \"o+ o+ o o\",\n",
    "    \"o+ o+ v o\",\n",
    "    \"o+ o+ v v\",\n",
    "    \"o+ v+ o o\",\n",
    "    \"o+ v+ v o\",\n",
    "    \"o+ v+ v v\",\n",
    "    \"v+ v+ o o\",\n",
    "    \"v+ v+ v o\",\n",
    "    \"v+ v+ v v\",\n",
    "    ],\n",
    ")"
   ]
  },
  {
   "cell_type": "code",
   "execution_count": 3,
   "id": "9e117a39",
   "metadata": {},
   "outputs": [
    {
     "ename": "KeyError",
     "evalue": "'|'",
     "output_type": "error",
     "traceback": [
      "\u001b[0;31m---------------------------------------------------------------------------\u001b[0m",
      "\u001b[0;31mKeyError\u001b[0m                                  Traceback (most recent call last)",
      "Input \u001b[0;32mIn [3]\u001b[0m, in \u001b[0;36m<module>\u001b[0;34m\u001b[0m\n\u001b[1;32m     21\u001b[0m     \u001b[38;5;28mprint\u001b[39m(\u001b[38;5;124mf\u001b[39m\u001b[38;5;124m'\u001b[39m\u001b[38;5;130;01m\\n\u001b[39;00m\u001b[38;5;130;01m\\n\u001b[39;00m\u001b[38;5;132;01m{\u001b[39;00mfunct\u001b[38;5;132;01m}\u001b[39;00m\u001b[38;5;130;01m\\n\u001b[39;00m\u001b[38;5;124m'\u001b[39m)\n\u001b[1;32m     22\u001b[0m     \u001b[38;5;28;01mreturn\u001b[39;00m funct\n\u001b[0;32m---> 24\u001b[0m energy_eq \u001b[38;5;241m=\u001b[39m \u001b[43mgenerate_equation\u001b[49m\u001b[43m(\u001b[49m\u001b[43mmbeq\u001b[49m\u001b[43m,\u001b[49m\u001b[43m \u001b[49m\u001b[38;5;241;43m0\u001b[39;49m\u001b[43m,\u001b[49m\u001b[38;5;241;43m0\u001b[39;49m\u001b[43m)\u001b[49m\n\u001b[1;32m     25\u001b[0m exec(energy_eq)\n\u001b[1;32m     26\u001b[0m t1_eq \u001b[38;5;241m=\u001b[39m generate_equation(mbeq, \u001b[38;5;241m1\u001b[39m,\u001b[38;5;241m1\u001b[39m)\n",
      "Input \u001b[0;32mIn [3]\u001b[0m, in \u001b[0;36mgenerate_equation\u001b[0;34m(mbeq, nocc, nvir)\u001b[0m\n\u001b[1;32m     13\u001b[0m     dims \u001b[38;5;241m=\u001b[39m \u001b[38;5;124m'\u001b[39m\u001b[38;5;124m,\u001b[39m\u001b[38;5;124m'\u001b[39m\u001b[38;5;241m.\u001b[39mjoin([\u001b[38;5;124m'\u001b[39m\u001b[38;5;124mnocc\u001b[39m\u001b[38;5;124m'\u001b[39m] \u001b[38;5;241m*\u001b[39m nocc \u001b[38;5;241m+\u001b[39m [\u001b[38;5;124m'\u001b[39m\u001b[38;5;124mnvir\u001b[39m\u001b[38;5;124m'\u001b[39m] \u001b[38;5;241m*\u001b[39m nvir)\n\u001b[1;32m     14\u001b[0m     code\u001b[38;5;241m.\u001b[39mappend(\u001b[38;5;124mf\u001b[39m\u001b[38;5;124m\"\u001b[39m\u001b[38;5;124m    \u001b[39m\u001b[38;5;132;01m{\u001b[39;00mres_sym\u001b[38;5;132;01m}\u001b[39;00m\u001b[38;5;124m = np.zeros((\u001b[39m\u001b[38;5;132;01m{\u001b[39;00mdims\u001b[38;5;132;01m}\u001b[39;00m\u001b[38;5;124m))\u001b[39m\u001b[38;5;124m\"\u001b[39m)\n\u001b[0;32m---> 15\u001b[0m \u001b[38;5;28;01mfor\u001b[39;00m eq \u001b[38;5;129;01min\u001b[39;00m \u001b[43mmbeq\u001b[49m\u001b[43m[\u001b[49m\u001b[38;5;124;43m\"\u001b[39;49m\u001b[38;5;124;43mo\u001b[39;49m\u001b[38;5;124;43m\"\u001b[39;49m\u001b[43m \u001b[49m\u001b[38;5;241;43m*\u001b[39;49m\u001b[43m \u001b[49m\u001b[43mnocc\u001b[49m\u001b[43m \u001b[49m\u001b[38;5;241;43m+\u001b[39;49m\u001b[43m \u001b[49m\u001b[38;5;124;43m\"\u001b[39;49m\u001b[38;5;124;43m|\u001b[39;49m\u001b[38;5;124;43m\"\u001b[39;49m\u001b[43m \u001b[49m\u001b[38;5;241;43m+\u001b[39;49m\u001b[43m \u001b[49m\u001b[38;5;124;43m\"\u001b[39;49m\u001b[38;5;124;43mv\u001b[39;49m\u001b[38;5;124;43m\"\u001b[39;49m\u001b[43m \u001b[49m\u001b[38;5;241;43m*\u001b[39;49m\u001b[43m \u001b[49m\u001b[43mnvir\u001b[49m\u001b[43m]\u001b[49m:\n\u001b[1;32m     16\u001b[0m     contraction \u001b[38;5;241m=\u001b[39m eq\u001b[38;5;241m.\u001b[39mcompile(\u001b[38;5;124m\"\u001b[39m\u001b[38;5;124meinsum\u001b[39m\u001b[38;5;124m\"\u001b[39m)\n\u001b[1;32m     17\u001b[0m     \u001b[38;5;28;01mif\u001b[39;00m res_sym \u001b[38;5;129;01min\u001b[39;00m contraction:\n",
      "\u001b[0;31mKeyError\u001b[0m: '|'"
     ]
    }
   ],
   "source": [
    "wt = w.WickTheorem()\n",
    "Hbar = w.bch_series(Hop,Top,4)\n",
    "expr = wt.contract(w.rational(1), Hbar, 0, 4)\n",
    "mbeq = expr.to_manybody_equation(\"R\")\n",
    "\n",
    "def generate_equation(mbeq, nocc, nvir):\n",
    "    res_sym = f\"R{'o' * nocc}{'v' * nvir}\"\n",
    "    code = [f\"def evaluate_residual_{nocc}_{nvir}(H,T):\",\n",
    "        \"    # contributions to the residual\"]\n",
    "    if nocc + nvir == 0:\n",
    "        code.append(\"    R = 0.0\")\n",
    "    else:\n",
    "        dims = ','.join(['nocc'] * nocc + ['nvir'] * nvir)\n",
    "        code.append(f\"    {res_sym} = np.zeros(({dims}))\")\n",
    "    for eq in mbeq[\"o\" * nocc + \"|\" + \"v\" * nvir]:\n",
    "        contraction = eq.compile(\"einsum\")\n",
    "        if res_sym in contraction:\n",
    "            code.append(f'    {contraction}')\n",
    "    code.append(f'    return {res_sym}')\n",
    "    funct = '\\n'.join(code)\n",
    "    print(f'\\n\\n{funct}\\n')\n",
    "    return funct\n",
    "\n",
    "energy_eq = generate_equation(mbeq, 0,0)\n",
    "exec(energy_eq)\n",
    "t1_eq = generate_equation(mbeq, 1,1)\n",
    "exec(t1_eq)\n",
    "t2_eq = generate_equation(mbeq, 2,2)\n",
    "exec(t2_eq)"
   ]
  },
  {
   "cell_type": "markdown",
   "id": "41e2d3f1",
   "metadata": {},
   "source": [
    "## Compute the Hartree–Fock and MP2 energy"
   ]
  },
  {
   "cell_type": "code",
   "execution_count": 7,
   "id": "e00b1627",
   "metadata": {},
   "outputs": [],
   "source": [
    "# setup xyz geometry for linear H4\n",
    "geometry = \"\"\"\n",
    "H 0.0 0.0 0.0\n",
    "H 0.0 0.0 1.0\n",
    "H 0.0 0.0 2.0\n",
    "H 0.0 0.0 3.0\n",
    "H 0.0 0.0 4.0\n",
    "H 0.0 0.0 5.1\n",
    "symmetry c1\n",
    "\"\"\"\n",
    "\n",
    "(Escf, psi4_wfn) = forte.utils.psi4_scf(geometry,\n",
    "                                        basis='sto-3g',\n",
    "                                        reference='rhf',\n",
    "                                        options={'E_CONVERGENCE' : 1.e-12})"
   ]
  },
  {
   "cell_type": "markdown",
   "id": "df1ea2a6",
   "metadata": {},
   "source": [
    "## Prepare integrals for Forte"
   ]
  },
  {
   "cell_type": "code",
   "execution_count": 8,
   "id": "cbd666c9",
   "metadata": {},
   "outputs": [],
   "source": [
    "# Define the orbital spaces\n",
    "mo_spaces = {'RESTRICTED_DOCC': [3],'RESTRICTED_UOCC': [3]}\n",
    "\n",
    "# pass Psi4 options to Forte\n",
    "options = psi4.core.get_options()\n",
    "options.set_current_module('FORTE')\n",
    "forte_options.get_options_from_psi4(options)\n",
    "\n",
    "# Grab the number of MOs per irrep\n",
    "nmopi = psi4_wfn.nmopi()\n",
    "# Grab the point group symbol (e.g. \"C2V\")\n",
    "point_group = psi4_wfn.molecule().point_group().symbol()\n",
    "# create a MOSpaceInfo object\n",
    "mo_space_info = forte.make_mo_space_info_from_map(nmopi, point_group,mo_spaces, [])\n",
    "# make a ForteIntegral object\n",
    "ints = forte.make_ints_from_psi4(psi4_wfn, forte_options, mo_space_info)"
   ]
  },
  {
   "cell_type": "markdown",
   "id": "1f580b0d",
   "metadata": {},
   "source": [
    "## Define orbital spaces and dimensions"
   ]
  },
  {
   "cell_type": "code",
   "execution_count": 9,
   "id": "a8009e67",
   "metadata": {},
   "outputs": [],
   "source": [
    "occmos = mo_space_info.corr_absolute_mo('RESTRICTED_DOCC')\n",
    "virmos = mo_space_info.corr_absolute_mo('RESTRICTED_UOCC')\n",
    "allmos = mo_space_info.corr_absolute_mo('CORRELATED')\n",
    "nocc = 2 * len(occmos)\n",
    "nvir = 2 * len(virmos)"
   ]
  },
  {
   "cell_type": "markdown",
   "id": "d4a80d4c",
   "metadata": {},
   "source": [
    "## Build the Fock matrix and the zeroth-order Fock matrix"
   ]
  },
  {
   "cell_type": "code",
   "execution_count": 10,
   "id": "40139b10",
   "metadata": {},
   "outputs": [],
   "source": [
    "H = {'oo': forte.spinorbital_fock(ints,occmos, occmos,occmos),\n",
    "     'vv': forte.spinorbital_fock(ints,virmos, virmos,occmos),\n",
    "     'ov': forte.spinorbital_fock(ints,occmos, virmos,occmos),\n",
    "     'vo': forte.spinorbital_fock(ints,occmos, virmos,occmos),     \n",
    "     'oovv' : forte.spinorbital_tei(ints,occmos,occmos,virmos,virmos),\n",
    "     'ooov' : forte.spinorbital_tei(ints,occmos,occmos,occmos,virmos),\n",
    "     'vvvv' : forte.spinorbital_tei(ints,virmos,virmos,virmos,virmos),\n",
    "     'vvoo' : forte.spinorbital_tei(ints,virmos,virmos,occmos,occmos),\n",
    "     'ovov' : forte.spinorbital_tei(ints,occmos,virmos,occmos,virmos),\n",
    "     'ovvv' : forte.spinorbital_tei(ints,occmos,virmos,virmos,virmos),\n",
    "     'vvov' : forte.spinorbital_tei(ints,virmos,virmos,occmos,virmos),\n",
    "     'ovoo' : forte.spinorbital_tei(ints,occmos,virmos,occmos,occmos),\n",
    "     'oooo' : forte.spinorbital_tei(ints,occmos,occmos,occmos,occmos)}"
   ]
  },
  {
   "cell_type": "markdown",
   "id": "769874c0",
   "metadata": {},
   "source": [
    "## Build the MP denominators"
   ]
  },
  {
   "cell_type": "code",
   "execution_count": 11,
   "id": "ce344147",
   "metadata": {},
   "outputs": [],
   "source": [
    "fo = np.diag(H['oo'])\n",
    "fv = np.diag(H['vv'])\n",
    "\n",
    "D = {}\n",
    "\n",
    "d1 = np.zeros((nocc,nvir))\n",
    "for i in range(nocc):\n",
    "    for a in range(nvir):\n",
    "        si = i % 2\n",
    "        sa = a % 2\n",
    "        if si == sa:\n",
    "            d1[i][a] = 1.0 / (fo[i] - fv[a])\n",
    "D['ov'] = d1\n",
    "            \n",
    "                    \n",
    "d2 = np.zeros((nocc,nocc,nvir,nvir))\n",
    "for i in range(nocc):\n",
    "    for j in range(nocc):\n",
    "        for a in range(nvir):\n",
    "            for b in range(nvir):\n",
    "                si = i % 2\n",
    "                sj = j % 2\n",
    "                sa = a % 2\n",
    "                sb = b % 2\n",
    "                if si == sj == sa == sb:\n",
    "                    d2[i][j][a][b] = 1.0 / (fo[i] + fo[j] - fv[a] - fv[b])\n",
    "                if si == sa and sj == sb and si != sj:\n",
    "                    d2[i][j][a][b] = 1.0 / (fo[i] + fo[j] - fv[a] - fv[b])\n",
    "                if si == sb and sj == sa and si != sj:\n",
    "                    d2[i][j][a][b] = 1.0 / (fo[i] + fo[j] - fv[a] - fv[b])                    \n",
    "D['oovv'] = d2"
   ]
  },
  {
   "cell_type": "code",
   "execution_count": 12,
   "id": "afb93fee",
   "metadata": {},
   "outputs": [
    {
     "name": "stdout",
     "output_type": "stream",
     "text": [
      "MP2 corr. energy: -0.066236921094 Eh\n"
     ]
    }
   ],
   "source": [
    "# Compute the MP2 correlation energy\n",
    "Emp2 = 0.0\n",
    "for i in range(nocc):\n",
    "    for j in range(nocc):\n",
    "        for a in range(nvir):\n",
    "            for b in range(nvir):\n",
    "                Emp2 += 0.25 * H[\"oovv\"][i][j][a][b] ** 2 / (fo[i] + fo[j] - fv[a] - fv[b])\n",
    "print(f\"MP2 corr. energy: {Emp2:.12f} Eh\")"
   ]
  },
  {
   "cell_type": "code",
   "execution_count": 13,
   "id": "9bc86ae2",
   "metadata": {},
   "outputs": [],
   "source": [
    "def antisymmetrize_residual_2_2(Roovv):\n",
    "    # antisymmetrize the residual\n",
    "    Roovv_anti = np.zeros((nocc,nocc,nvir,nvir))\n",
    "    Roovv_anti += 0.25 * np.einsum(\"ijab->ijab\",Roovv)\n",
    "    Roovv_anti -= 0.25 * np.einsum(\"ijab->jiab\",Roovv)\n",
    "    Roovv_anti -= 0.25 * np.einsum(\"ijab->ijba\",Roovv)\n",
    "    Roovv_anti += 0.25 * np.einsum(\"ijab->jiba\",Roovv)    \n",
    "    return Roovv_anti\n",
    "\n",
    "def update_amplitudes(T,R,d):\n",
    "    T['ov'] += np.einsum(\"ia,ia->ia\",R['ov'],D['ov'])\n",
    "    T['oovv'] += np.einsum(\"ijab,ijab->ijab\",R['oovv'],D['oovv'])"
   ]
  },
  {
   "cell_type": "code",
   "execution_count": 14,
   "id": "b1183237",
   "metadata": {},
   "outputs": [
    {
     "name": "stdout",
     "output_type": "stream",
     "text": [
      "--------------------------------------\n",
      "Iter.    Corr. energy       |R|       \n",
      "--------------------------------------\n",
      "  0    +0.000000000000  7.023516e-01\n",
      "  1    -0.066236921094  2.703474e-01\n",
      "  2    -0.088946436431  1.217901e-01\n",
      "  3    -0.098716611030  6.159876e-02\n",
      "  4    -0.103057285019  3.406897e-02\n",
      "  5    -0.105151066198  2.036844e-02\n",
      "  6    -0.106201235112  1.283723e-02\n",
      "  7    -0.106763171400  8.324145e-03\n",
      "  8    -0.107078043378  5.488428e-03\n",
      "  9    -0.107263730832  3.648039e-03\n",
      " 10    -0.107377120315  2.437192e-03\n",
      " 11    -0.107448498137  1.632438e-03\n",
      " 12    -0.107494313804  1.095330e-03\n",
      " 13    -0.107524165846  7.356232e-04\n",
      " 14    -0.107543800661  4.943600e-04\n",
      " 15    -0.107556804218  3.323383e-04\n",
      " 16    -0.107565453926  2.234690e-04\n",
      " 17    -0.107571225679  1.502818e-04\n",
      " 18    -0.107575085059  1.010713e-04\n",
      " 19    -0.107577669584  6.797739e-05\n",
      " 20    -0.107579402171  4.572026e-05\n",
      " 21    -0.107580564534  3.075065e-05\n",
      " 22    -0.107581344774  2.068232e-05\n",
      " 23    -0.107581868731  1.391045e-05\n",
      " 24    -0.107582220695  9.355786e-06\n",
      " 25    -0.107582457181  6.292394e-06\n",
      " 26    -0.107582616107  4.232026e-06\n",
      " 27    -0.107582722925  2.846281e-06\n",
      " 28    -0.107582794729  1.914276e-06\n",
      " 29    -0.107582843000  1.287446e-06\n",
      " 30    -0.107582875454  8.658674e-07\n",
      " 31    -0.107582897274  5.823340e-07\n",
      " 32    -0.107582911946  3.916439e-07\n",
      " 33    -0.107582921811  2.633962e-07\n",
      " 34    -0.107582928445  1.771440e-07\n",
      " 35    -0.107582932906  1.191359e-07\n",
      " 36    -0.107582935906  8.012312e-08\n",
      " 37    -0.107582937923  5.388558e-08\n",
      " 38    -0.107582939280  3.623988e-08\n",
      " 39    -0.107582940192  2.437252e-08\n",
      "--------------------------------------\n",
      "CCSD correlation energy: -0.107582940192 [Eh]\n",
      "Error:                   +1.021034035098e-09 [Eh]\n"
     ]
    }
   ],
   "source": [
    "ref_CCSD  = -0.107582941213 # from psi4numpy (H6)\n",
    "\n",
    "T = {}\n",
    "T[\"ov\"] = np.zeros((nocc,nvir))\n",
    "T[\"oovv\"] = np.zeros((nocc,nocc,nvir,nvir))\n",
    "\n",
    "header = \"Iter.    Corr. energy       |R|       \"\n",
    "print(\"-\" * len(header))\n",
    "print(header)\n",
    "print(\"-\" * len(header))\n",
    "\n",
    "maxiter = 40\n",
    "for i in range(maxiter):\n",
    "    R = {}\n",
    "    Ewicked = float(evaluate_residual_0_0(H,T))\n",
    "    R['ov'] = evaluate_residual_1_1(H,T)\n",
    "    Roovv = evaluate_residual_2_2(H,T)\n",
    "    R['oovv'] = antisymmetrize_residual_2_2(Roovv)\n",
    "\n",
    "    update_amplitudes(T,R,D)\n",
    "\n",
    "    # check for convergence\n",
    "    norm_R = np.sqrt(np.linalg.norm(R['ov'])**2 + np.linalg.norm(R['oovv'])**2)\n",
    "    print(f\"{i:3d}    {Ewicked:+.12f}  {norm_R:e}\") \n",
    "    if norm_R < 1.0e-9:\n",
    "        break\n",
    "        \n",
    "print(\"-\" * len(header))    \n",
    "print(f\"CCSD correlation energy: {Ewicked:+.12f} [Eh]\")\n",
    "print(f\"Error:                   {Ewicked - ref_CCSD:+.12e} [Eh]\")"
   ]
  }
 ],
 "metadata": {
  "kernelspec": {
   "display_name": "Python 3 (ipykernel)",
   "language": "python",
   "name": "python3"
  },
  "language_info": {
   "codemirror_mode": {
    "name": "ipython",
    "version": 3
   },
   "file_extension": ".py",
   "mimetype": "text/x-python",
   "name": "python",
   "nbconvert_exporter": "python",
   "pygments_lexer": "ipython3",
   "version": "3.9.9"
  }
 },
 "nbformat": 4,
 "nbformat_minor": 5
}
