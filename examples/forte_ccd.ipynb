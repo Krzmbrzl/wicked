{
 "cells": [
  {
   "cell_type": "markdown",
   "id": "81579bfa",
   "metadata": {},
   "source": [
    "# CCD theory for a closed-shell reference\n",
    "\n",
    "In this notebook we will use wicked to generate equations for the CCD method"
   ]
  },
  {
   "cell_type": "code",
   "execution_count": 1,
   "id": "caa5d04c",
   "metadata": {},
   "outputs": [],
   "source": [
    "import wicked as w"
   ]
  },
  {
   "cell_type": "code",
   "execution_count": 2,
   "id": "67ccf97e",
   "metadata": {},
   "outputs": [],
   "source": [
    "w.reset_space()\n",
    "w.add_space('o', 'fermion', 'occupied', ['i', 'j', 'k', 'l', 'm', 'n'])\n",
    "w.add_space('v', 'fermion', 'unoccupied', ['a', 'b', 'c', 'd', 'e', 'f'])\n",
    "\n",
    "T2 = w.op('T2', ['v+ v+ o o'])\n",
    "F = w.op('F', ['o+ o', 'v+ v','o+ v', 'v+ o'])\n",
    "V = w.op(\n",
    "    'V',\n",
    "    [\n",
    "        'o+ o+ o o',\n",
    "        'o+ o+ v o',\n",
    "        'o+ o+ v v',\n",
    "        'o+ v+ o o',\n",
    "        'o+ v+ v o',\n",
    "        'o+ v+ v v',\n",
    "        'v+ v+ o o',\n",
    "        'v+ v+ v o',\n",
    "        'v+ v+ v v',\n",
    "    ],\n",
    ")"
   ]
  },
  {
   "cell_type": "code",
   "execution_count": 3,
   "id": "316c2a2f",
   "metadata": {},
   "outputs": [
    {
     "name": "stdout",
     "output_type": "stream",
     "text": [
      "Defined the function:\n",
      "\n",
      "def evaluate_residual(F,V,T):\n",
      "    # contributions to the residual\n",
      "    Roovv = np.zeros((nocc,nocc,nvir,nvir))\n",
      "    Roovv += -2.000000000 * np.einsum(\"ca,ijbc->ijab\",F[\"vv\"],T2[\"oovv\"])\n",
      "    Roovv += 2.000000000 * np.einsum(\"ik,jkab->ijab\",F[\"oo\"],T2[\"oovv\"])\n",
      "    Roovv += 0.500000000 * np.einsum(\"ijcd,cdab->ijab\",T2[\"oovv\"],V[\"vvvv\"])\n",
      "    Roovv += 2.000000000 * np.einsum(\"ikac,jlbd,cdkl->ijab\",T2[\"oovv\"],T2[\"oovv\"],V[\"vvoo\"])\n",
      "    Roovv += -4.000000000 * np.einsum(\"ikac,jckb->ijab\",T2[\"oovv\"],V[\"ovov\"])\n",
      "    Roovv += -1.000000000 * np.einsum(\"ijac,klbd,cdkl->ijab\",T2[\"oovv\"],T2[\"oovv\"],V[\"vvoo\"])\n",
      "    Roovv += 0.250000000 * np.einsum(\"klab,ijcd,cdkl->ijab\",T2[\"oovv\"],T2[\"oovv\"],V[\"vvoo\"])\n",
      "    Roovv += 0.500000000 * np.einsum(\"klab,ijkl->ijab\",T2[\"oovv\"],V[\"oooo\"])\n",
      "    Roovv += -1.000000000 * np.einsum(\"ikab,jlcd,cdkl->ijab\",T2[\"oovv\"],T2[\"oovv\"],V[\"vvoo\"])\n",
      "    Roovv += 1.000000000 * np.einsum(\"ijab->ijab\",V[\"oovv\"])\n",
      "    return Roovv\n",
      "\n"
     ]
    }
   ],
   "source": [
    "wt = w.WickTheorem()\n",
    "\n",
    "expr = wt.contract(w.rational(1), F, 0, 4)\n",
    "expr += wt.contract(w.rational(1), V, 0, 4)\n",
    "expr += wt.contract(w.rational(1), w.commutator(F, T2), 0, 4)\n",
    "expr += wt.contract(w.rational(1), w.commutator(V, T2), 0, 4)\n",
    "expr += wt.contract(w.rational(1,2), w.commutator(w.commutator(F,T2),T2), 0, 4)\n",
    "expr += wt.contract(w.rational(1,2), w.commutator(w.commutator(V, T2),T2), 0, 4)\n",
    "mbeq = expr.to_manybody_equation(\"R\")\n",
    "\n",
    "code = [\"def evaluate_residual(F,V,T):\",\n",
    "        \"    # contributions to the residual\",\n",
    "        \"    Roovv = np.zeros((nocc,nocc,nvir,nvir))\"]\n",
    "for eq in mbeq[4]:\n",
    "    contraction = eq.compile(\"einsum\")\n",
    "    if 'Roovv' in contraction:\n",
    "        code.append(f'    {contraction}')\n",
    "code.append(f'    return Roovv')\n",
    "funct = '\\n'.join(code)\n",
    "    \n",
    "print(f'Defined the function:\\n\\n{funct}\\n')\n",
    "exec(funct)"
   ]
  },
  {
   "cell_type": "markdown",
   "id": "62e72935",
   "metadata": {},
   "source": [
    "```python\n",
    "def evaluate_residual(F,V,T):\n",
    "    # contributions to the residual\n",
    "    Roovv = np.zeros((nocc,nocc,nvir,nvir))\n",
    "    Roovv += -2.000000000 * np.einsum(\"ca,ijbc->ijab\",F[\"vv\"],T2[\"oovv\"])\n",
    "    Roovv += 2.000000000 * np.einsum(\"ik,jkab->ijab\",F[\"oo\"],T2[\"oovv\"])\n",
    "    Roovv += 0.500000000 * np.einsum(\"ijcd,cdab->ijab\",T2[\"oovv\"],V[\"vvvv\"])\n",
    "    Roovv += 2.000000000 * np.einsum(\"ikac,jlbd,cdkl->ijab\",T2[\"oovv\"],T2[\"oovv\"],V[\"vvoo\"])\n",
    "    Roovv += -4.000000000 * np.einsum(\"ikac,jckb->ijab\",T2[\"oovv\"],V[\"ovov\"])\n",
    "    Roovv += -1.000000000 * np.einsum(\"ijac,klbd,cdkl->ijab\",T2[\"oovv\"],T2[\"oovv\"],V[\"vvoo\"])\n",
    "    Roovv += 0.250000000 * np.einsum(\"klab,ijcd,cdkl->ijab\",T2[\"oovv\"],T2[\"oovv\"],V[\"vvoo\"])\n",
    "    Roovv += 0.500000000 * np.einsum(\"klab,ijkl->ijab\",T2[\"oovv\"],V[\"oooo\"])\n",
    "    Roovv += -1.000000000 * np.einsum(\"ikab,jlcd,cdkl->ijab\",T2[\"oovv\"],T2[\"oovv\"],V[\"vvoo\"])\n",
    "    Roovv += 1.000000000 * np.einsum(\"ijab->ijab\",V[\"oovv\"])\n",
    "    return Roovv\n",
    "```"
   ]
  },
  {
   "cell_type": "code",
   "execution_count": 4,
   "id": "e9ad5087",
   "metadata": {},
   "outputs": [],
   "source": [
    "# def spin_mask2(i,j):\n",
    "#     if (i % 2) == (j % 2):\n",
    "#         return 1\n",
    "#     return 0\n",
    "\n",
    "# def spin_mask4(i,j):\n",
    "#     if (i % 2) == (j % 2):\n",
    "#         return 1\n",
    "#     return 0\n",
    "\n",
    "# np.fromfunction(np.vectorize(spin_mask), (4, 4), dtype=int)"
   ]
  },
  {
   "cell_type": "code",
   "execution_count": 5,
   "id": "23b10ee4",
   "metadata": {},
   "outputs": [],
   "source": [
    "import psi4\n",
    "import forte\n",
    "import forte.utils\n",
    "from forte import forte_options\n",
    "import numpy as np"
   ]
  },
  {
   "cell_type": "markdown",
   "id": "41e2d3f1",
   "metadata": {},
   "source": [
    "## Compute the Hartree–Fock and MP2 energy"
   ]
  },
  {
   "cell_type": "code",
   "execution_count": 6,
   "id": "e00b1627",
   "metadata": {},
   "outputs": [],
   "source": [
    "# setup xyz geometry for linear H4\n",
    "geometry = \"\"\"\n",
    "H 0.0 0.0 0.0\n",
    "H 0.0 0.0 1.0\n",
    "H 0.0 0.0 2.0\n",
    "H 0.0 0.0 3.0\n",
    "H 0.0 0.0 4.0\n",
    "H 0.0 0.0 5.1\n",
    "symmetry c1\n",
    "\"\"\"\n",
    "\n",
    "(Escf, psi4_wfn) = forte.utils.psi4_scf(geometry,\n",
    "                                        basis='sto-3g',\n",
    "                                        reference='rhf',\n",
    "                                        options={'E_CONVERGENCE' : 1.e-12})"
   ]
  },
  {
   "cell_type": "markdown",
   "id": "df1ea2a6",
   "metadata": {},
   "source": [
    "## Prepare integrals for Forte"
   ]
  },
  {
   "cell_type": "code",
   "execution_count": 7,
   "id": "cbd666c9",
   "metadata": {},
   "outputs": [],
   "source": [
    "# Define the orbital spaces\n",
    "mo_spaces = {'RESTRICTED_DOCC': [3],'RESTRICTED_UOCC': [3]}\n",
    "\n",
    "# pass Psi4 options to Forte\n",
    "options = psi4.core.get_options()\n",
    "options.set_current_module('FORTE')\n",
    "forte_options.get_options_from_psi4(options)\n",
    "\n",
    "# Grab the number of MOs per irrep\n",
    "nmopi = psi4_wfn.nmopi()\n",
    "# Grab the point group symbol (e.g. \"C2V\")\n",
    "point_group = psi4_wfn.molecule().point_group().symbol()\n",
    "# create a MOSpaceInfo object\n",
    "mo_space_info = forte.make_mo_space_info_from_map(nmopi, point_group,mo_spaces, [])\n",
    "# make a ForteIntegral object\n",
    "ints = forte.make_ints_from_psi4(psi4_wfn, forte_options, mo_space_info)"
   ]
  },
  {
   "cell_type": "markdown",
   "id": "1f580b0d",
   "metadata": {},
   "source": [
    "## Define orbital spaces and dimensions"
   ]
  },
  {
   "cell_type": "code",
   "execution_count": 8,
   "id": "a8009e67",
   "metadata": {},
   "outputs": [],
   "source": [
    "occmos = mo_space_info.corr_absolute_mo('RESTRICTED_DOCC')\n",
    "virmos = mo_space_info.corr_absolute_mo('RESTRICTED_UOCC')\n",
    "allmos = mo_space_info.corr_absolute_mo('CORRELATED')\n",
    "nocc = 2 * len(occmos)\n",
    "nvir = 2 * len(virmos)"
   ]
  },
  {
   "cell_type": "markdown",
   "id": "d4a80d4c",
   "metadata": {},
   "source": [
    "## Build the Fock matrix and the zeroth-order Fock matrix"
   ]
  },
  {
   "cell_type": "code",
   "execution_count": 9,
   "id": "43c12954",
   "metadata": {},
   "outputs": [],
   "source": [
    "# Build the Fock matrix blocks\n",
    "F = {'oo': forte.spinorbital_fock(ints,occmos, occmos,occmos),\n",
    "     'vv': forte.spinorbital_fock(ints,virmos, virmos,occmos),\n",
    "     'ov': forte.spinorbital_fock(ints,occmos, virmos,occmos)}\n",
    "\n",
    "# Build the diagonal orbital energies\n",
    "Fdiag = {'oo': np.diag(F['oo']), 'vv': np.diag(F['vv'])}\n",
    "F0 = {'oo' : np.diag(Fdiag['oo']),'vv' : np.diag(Fdiag['vv']) }\n",
    "\n",
    "# Build the two-electron integrals\n",
    "V = {}\n",
    "V[\"oovv\"] = forte.spinorbital_tei(ints,occmos,occmos,virmos,virmos)\n",
    "V[\"vvvv\"] = forte.spinorbital_tei(ints,virmos,virmos,virmos,virmos)\n",
    "V[\"vvoo\"] = forte.spinorbital_tei(ints,virmos,virmos,occmos,occmos)\n",
    "V[\"ovov\"] = forte.spinorbital_tei(ints,occmos,virmos,occmos,virmos)\n",
    "V[\"oooo\"] = forte.spinorbital_tei(ints,occmos,occmos,occmos,occmos)"
   ]
  },
  {
   "cell_type": "code",
   "execution_count": null,
   "id": "dbb2c824",
   "metadata": {},
   "outputs": [],
   "source": []
  },
  {
   "cell_type": "markdown",
   "id": "769874c0",
   "metadata": {},
   "source": [
    "## Build the MP denominators"
   ]
  },
  {
   "cell_type": "code",
   "execution_count": 10,
   "id": "ce344147",
   "metadata": {},
   "outputs": [],
   "source": [
    "d2 = np.zeros((nocc,nocc,nvir,nvir))\n",
    "\n",
    "fo = Fdiag['oo']\n",
    "fv = Fdiag['vv']\n",
    "for i in range(nocc):\n",
    "    for j in range(nocc):\n",
    "        for a in range(nvir):\n",
    "            for b in range(nvir):\n",
    "                si = i % 2\n",
    "                sj = j % 2\n",
    "                sa = a % 2\n",
    "                sb = b % 2\n",
    "                if si == sj == sa == sb:\n",
    "                    d2[i][j][a][b] = 1.0 / (fo[i] + fo[j] - fv[a] - fv[b])\n",
    "                if si == sa and sj == sb and si != sj:\n",
    "                    d2[i][j][a][b] = 1.0 / (fo[i] + fo[j] - fv[a] - fv[b])\n",
    "                if si == sb and sj == sa and si != sj:\n",
    "                    d2[i][j][a][b] = 1.0 / (fo[i] + fo[j] - fv[a] - fv[b])"
   ]
  },
  {
   "cell_type": "code",
   "execution_count": 11,
   "id": "afb93fee",
   "metadata": {},
   "outputs": [
    {
     "name": "stdout",
     "output_type": "stream",
     "text": [
      "MP2 corr. energy: -0.066236921093 Eh\n"
     ]
    }
   ],
   "source": [
    "# Compute the MP2 correlation energy\n",
    "Emp2 = 0.0\n",
    "for i in range(nocc):\n",
    "    for j in range(nocc):\n",
    "        for a in range(nvir):\n",
    "            for b in range(nvir):\n",
    "                Emp2 += 0.25 * V[\"oovv\"][i][j][a][b] ** 2 / (fo[i] + fo[j] - fv[a] - fv[b])\n",
    "print(f\"MP2 corr. energy: {Emp2:.12f} Eh\")"
   ]
  },
  {
   "cell_type": "code",
   "execution_count": 12,
   "id": "9bc86ae2",
   "metadata": {},
   "outputs": [],
   "source": [
    "def antisymmetrize_residual(Roovv):\n",
    "    # antisymmetrize the residual\n",
    "    Roovv_anti = np.zeros((nocc,nocc,nvir,nvir))\n",
    "    Roovv_anti += 0.25 * np.einsum(\"ijab->ijab\",Roovv)\n",
    "    Roovv_anti -= 0.25 * np.einsum(\"ijab->jiab\",Roovv)\n",
    "    Roovv_anti -= 0.25 * np.einsum(\"ijab->ijba\",Roovv)\n",
    "    Roovv_anti += 0.25 * np.einsum(\"ijab->jiba\",Roovv)    \n",
    "    return Roovv_anti\n",
    "\n",
    "def update_amplitudes(T2,R,d2):\n",
    "    T2[\"oovv\"] += np.einsum(\"ijab,ijab->ijab\",R,d2)\n",
    "    \n",
    "def compute_energy(T2,V):\n",
    "    energy = 0.25 * np.einsum('ijab,ijab->', V[\"oovv\"], T2[\"oovv\"])\n",
    "    return energy"
   ]
  },
  {
   "cell_type": "code",
   "execution_count": 13,
   "id": "b1183237",
   "metadata": {},
   "outputs": [
    {
     "name": "stdout",
     "output_type": "stream",
     "text": [
      "  0 -0.066236921093 7.023516e-01\n",
      "  1 -0.088946060413 2.703142e-01\n",
      "  2 -0.098696464425 1.216200e-01\n",
      "  3 -0.103031524033 6.068921e-02\n",
      "  4 -0.105094976371 3.242887e-02\n",
      "  5 -0.106116982998 1.810818e-02\n",
      "  6 -0.106647059295 1.035930e-02\n",
      "  7 -0.106930043777 6.012057e-03\n",
      "  8 -0.107085395675 3.519183e-03\n",
      "  9 -0.107172178276 2.072075e-03\n",
      " 10 -0.107221402582 1.224934e-03\n",
      " 11 -0.107249599939 7.262866e-04\n",
      " 12 -0.107265887451 4.315530e-04\n",
      " 13 -0.107275349928 2.568358e-04\n",
      " 14 -0.107280874030 1.530328e-04\n",
      " 15 -0.107284110660 9.126199e-05\n",
      " 16 -0.107286012879 5.445897e-05\n",
      " 17 -0.107287133582 3.251250e-05\n",
      " 18 -0.107287795236 1.941678e-05\n",
      " 19 -0.107288186548 1.159872e-05\n",
      " 20 -0.107288418322 6.929780e-06\n",
      " 21 -0.107288555776 4.140796e-06\n",
      " 22 -0.107288637381 2.474500e-06\n",
      " 23 -0.107288685876 1.478833e-06\n",
      " 24 -0.107288714717 8.838329e-07\n",
      " 25 -0.107288731881 5.282445e-07\n",
      " 26 -0.107288742102 3.157251e-07\n",
      " 27 -0.107288748192 1.887077e-07\n",
      " 28 -0.107288751823 1.127910e-07\n",
      " 29 -0.107288753987 6.741579e-08\n",
      " 30 -0.107288755278 4.029494e-08\n",
      " 31 -0.107288756049 2.408465e-08\n",
      " 32 -0.107288756508 1.439562e-08\n",
      " 33 -0.107288756783 8.604397e-09\n",
      " 34 -0.107288756947 5.142927e-09\n",
      " 35 -0.107288757045 3.073973e-09\n",
      " 36 -0.107288757103 1.837339e-09\n",
      " 37 -0.107288757138 1.098191e-09\n",
      " 38 -0.107288757159 6.563968e-10\n",
      "CCD corr. energy: -0.107288757159 Eh\n",
      "Err corr. energy: +2.170069679508e-13 Eh\n"
     ]
    }
   ],
   "source": [
    "T2 = {}\n",
    "T2[\"oovv\"] = np.zeros((nocc,nocc,nvir,nvir))\n",
    "\n",
    "maxiter = 40\n",
    "for i in range(maxiter):\n",
    "    Roovv = evaluate_residual(F,V,T2)\n",
    "    Roovv = antisymmetrize_residual(Roovv)\n",
    "    update_amplitudes(T2,Roovv,d2)\n",
    "    Ewicked = compute_energy(T2,V)\n",
    "    \n",
    "    # check for convergence\n",
    "    norm_R = np.linalg.norm(Roovv)\n",
    "    print(f\"{i:3d} {Ewicked:+.12f} {norm_R:e}\") \n",
    "    \n",
    "    if norm_R < 1.0e-9:\n",
    "        break\n",
    "    \n",
    "# ref_CCD = -0.067744692922 # from psi4numpy (H4)\n",
    "ref_CCD = -0.107288757159 # from psi4numpy (H6)\n",
    "print(f\"CCD corr. energy: {Ewicked:+.12f} Eh\")\n",
    "print(f\"Err corr. energy: {Ewicked - ref_CCD:+.12e} Eh\")"
   ]
  }
 ],
 "metadata": {
  "kernelspec": {
   "display_name": "Python 3 (ipykernel)",
   "language": "python",
   "name": "python3"
  },
  "language_info": {
   "codemirror_mode": {
    "name": "ipython",
    "version": 3
   },
   "file_extension": ".py",
   "mimetype": "text/x-python",
   "name": "python",
   "nbconvert_exporter": "python",
   "pygments_lexer": "ipython3",
   "version": "3.9.7"
  }
 },
 "nbformat": 4,
 "nbformat_minor": 5
}
