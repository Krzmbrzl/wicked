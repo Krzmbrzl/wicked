{
 "cells": [
  {
   "cell_type": "code",
   "execution_count": 1,
   "metadata": {
    "collapsed": true
   },
   "outputs": [],
   "source": [
    "import pywicked as pw\n",
    "\n",
    "pw.osi.reset()\n",
    "pw.osi.add_space(\"o\",pw.rdm.occupied,[\"i\",\"j\"])\n",
    "pw.osi.add_space(\"v\",pw.rdm.unoccupied,[\"a\",\"b\"])\n",
    "wdt = pw.WDiagTheorem()"
   ]
  },
  {
   "cell_type": "code",
   "execution_count": 2,
   "metadata": {},
   "outputs": [
    {
     "name": "stdout",
     "output_type": "stream",
     "text": [
      "+1/2 t(o->v) t(o->v) v(ov->oo)\n",
      "-1 t(o->v) v(ov->oo)\n",
      "-1 t(o->v) v(ov->oo) t(o->v)\n",
      "+1 v(ov->oo)\n",
      "+1 v(ov->oo) t(o->v)\n",
      "+1/2 v(ov->oo) t(o->v) t(o->v)\n"
     ]
    }
   ],
   "source": [
    "T1 = pw.make_operator(\"t\",[\"o->v\"])\n",
    "Hooov = pw.make_operator(\"v\", [\"ov->oo\"])\n",
    "wdt.set_print(pw.PrintLevel.basic)\n",
    "Hbar = pw.bch_series(Hooov,T1,2)\n",
    "print Hbar.str()\n",
    "sum = wdt.contract_sum(pw.rational(1,1),Hbar, 2, 2)"
   ]
  },
  {
   "cell_type": "code",
   "execution_count": 3,
   "metadata": {},
   "outputs": [
    {
     "name": "stdout",
     "output_type": "stream",
     "text": [
      "1 t^{o2}_{v0} v^{o1,v0}_{o0,o2} { a+(o0) a-(o1) }\n",
      "-1 t^{o1}_{v0} t^{o2}_{v1} v^{o0,v1}_{o1,o2} { a+(v0) a-(o0) }\n"
     ]
    }
   ],
   "source": [
    "print sum.str()"
   ]
  },
  {
   "cell_type": "code",
   "execution_count": 17,
   "metadata": {
    "scrolled": true
   },
   "outputs": [
    {
     "name": "stdout",
     "output_type": "stream",
     "text": [
      "+1 H(vo->oo)\n",
      "+1 H(vo->oo) T1(o->v)\n",
      "+1/2 H(vo->oo) T1(o->v) T1(o->v)\n",
      "-1 T1(o->v) H(vo->oo)\n",
      "-1 T1(o->v) H(vo->oo) T1(o->v)\n",
      "+1/2 T1(o->v) T1(o->v) H(vo->oo)\n"
     ]
    }
   ],
   "source": []
  },
  {
   "cell_type": "code",
   "execution_count": 18,
   "metadata": {},
   "outputs": [
    {
     "name": "stdout",
     "output_type": "stream",
     "text": [
      "-1/2 H^{v1,o0}_{o1,o2} T1^{o2}_{v0} T1^{o1}_{v1} { a+(v0) a-(o0) }\n",
      "1/2 H^{v1,o0}_{o1,o2} T1^{o1}_{v0} T1^{o2}_{v1} { a+(v0) a-(o0) }\n",
      "-1 H^{v0,o1}_{o0,o2} T1^{o2}_{v0} { a+(o0) a-(o1) }\n"
     ]
    }
   ],
   "source": []
  },
  {
   "cell_type": "code",
   "execution_count": 4,
   "metadata": {
    "collapsed": true
   },
   "outputs": [],
   "source": [
    "eqs = sum.to_manybody_equation(\"r\")"
   ]
  },
  {
   "cell_type": "code",
   "execution_count": 14,
   "metadata": {},
   "outputs": [
    {
     "name": "stdout",
     "output_type": "stream",
     "text": [
      "r[o0,v0] += -0.500000 * H[v1,o0,o1,o2] * T1[o2,v0] * T1[o1,v1];\n",
      "r[o0,v0] += 0.500000 * H[v1,o0,o1,o2] * T1[o1,v0] * T1[o2,v1];\n",
      "r[o1,o0] += -1.000000 * H[v0,o1,o0,o2] * T1[o2,v0];\n"
     ]
    }
   ],
   "source": [
    "for eq in eqs:\n",
    "    print eq.ambit()"
   ]
  },
  {
   "cell_type": "code",
   "execution_count": null,
   "metadata": {
    "collapsed": true
   },
   "outputs": [],
   "source": []
  }
 ],
 "metadata": {
  "anaconda-cloud": {},
  "kernelspec": {
   "display_name": "Python 3.9 (forte)",
   "language": "python",
   "name": "forte"
  },
  "language_info": {
   "codemirror_mode": {
    "name": "ipython",
    "version": 3
   },
   "file_extension": ".py",
   "mimetype": "text/x-python",
   "name": "python",
   "nbconvert_exporter": "python",
   "pygments_lexer": "ipython3",
   "version": "3.9.9"
  }
 },
 "nbformat": 4,
 "nbformat_minor": 1
}
