{
 "cells": [
  {
   "cell_type": "markdown",
   "metadata": {},
   "source": [
    "# Basics of Wick&d\n",
    "\n",
    "## Loading the module\n",
    "\n",
    "To use wick&d you will have to first import the module `wicked`. Here we abbreviate it with `w` for convenience. We also define a function (`show_latex`) to display objects in LaTeX format."
   ]
  },
  {
   "cell_type": "code",
   "execution_count": 31,
   "metadata": {},
   "outputs": [],
   "source": [
    "import wicked as w\n",
    "from IPython.display import display, Math, Latex\n",
    "\n",
    "def latex(expr):\n",
    "    \"\"\"Function to render any object that has a member latex() function\"\"\"\n",
    "    display(Math(expr.latex()))"
   ]
  },
  {
   "cell_type": "code",
   "execution_count": 2,
   "metadata": {},
   "outputs": [],
   "source": [
    "%load_ext autoreload\n",
    "%autoreload 2"
   ]
  },
  {
   "cell_type": "markdown",
   "metadata": {},
   "source": [
    "## The OrbitalsSpaceInfo object\n",
    "\n",
    "At the base of wick&d is the `OrbitalsSpaceInfo` class, which holds information about the orbital space defined. We get get access to this object via the function `get_osi()`. Calling the print function we can the see information about the orbital spaces defined."
   ]
  },
  {
   "cell_type": "code",
   "execution_count": 3,
   "metadata": {},
   "outputs": [
    {
     "name": "stdout",
     "output_type": "stream",
     "text": [
      "space label: c\n",
      "rdm: occupied\n",
      "indices: [m,n,o,p]\n",
      "\n",
      "space label: a\n",
      "rdm: general\n",
      "indices: [u,v,w,x,y,z]\n",
      "\n",
      "space label: v\n",
      "rdm: unoccupied\n",
      "indices: [e,f,g,h]\n"
     ]
    }
   ],
   "source": [
    "osi = w.get_osi()\n",
    "print(str(osi))"
   ]
  },
  {
   "cell_type": "markdown",
   "metadata": {},
   "source": [
    "By default, wick&d defines a set of spaces. Each space is characterized by a label (e.g., 'c' for core), the type of reduced density matrices (RDMs) associated with this space, and the *pretty* indices that we associate with this space (e.g., ['m','n','o','p'] for core orbitals).\n",
    "\n",
    "## Defining orbital spaces\n",
    "The property of the space are ultimately connected with the type of vacuum we are dealing with.\n",
    "Wick&d defines three types of spaces:\n",
    "- **Occupied** (`occupied`): orbitals that are occupied in the vacuum (applies to fermions)\n",
    "- **Unoccupied** (`unoccupied`): orbitals that are unoccupied in the vacuum\n",
    "- **General** (`general`): orbitals that are partially occupied in the vacuum\n",
    "\n",
    "Here are some example of how to define orbitals for different types of vacua:\n",
    "- **Physical vacuum**: specify only one space of unoccupied orbitals\n",
    "- **A single determinant (Fermi vacuum)**: specify only two spaces, occupied and unoccupied orbitals\n",
    "- **Linear combination of determinants (Generalized vacuum)**: specify three spaces, occupied, general, and unoccupied orbitals\n",
    "\n",
    "In the next lines of code, we reset these orbitals and define the orbital spaces for a Fermi vacuum (occupied and unoccupied)"
   ]
  },
  {
   "cell_type": "code",
   "execution_count": 36,
   "metadata": {},
   "outputs": [],
   "source": [
    "w.reset_space()\n",
    "w.add_space(\"o\", \"occupied\", ['i','j','k','l','m'])\n",
    "w.add_space(\"v\", \"unoccupied\", ['a','b','c','d','e','f'])"
   ]
  },
  {
   "cell_type": "markdown",
   "metadata": {},
   "source": [
    "We can now verify that the orbital spaces have been updated"
   ]
  },
  {
   "cell_type": "code",
   "execution_count": 37,
   "metadata": {},
   "outputs": [
    {
     "name": "stdout",
     "output_type": "stream",
     "text": [
      "space label: o\n",
      "rdm: occupied\n",
      "indices: [i,j,k,l,m]\n",
      "\n",
      "space label: v\n",
      "rdm: unoccupied\n",
      "indices: [a,b,c,d,e,f]\n"
     ]
    }
   ],
   "source": [
    "print(str(osi))"
   ]
  },
  {
   "cell_type": "markdown",
   "metadata": {},
   "source": [
    "## Orbital indices\n",
    "\n",
    "To identify orbitals wick&d defines a class (`Index`) that stores indices efficiently.\n",
    "To create an index we need to specify the space and a cardinal number associated with the index (to distinguis multiple indices that refer to the same space). Here we create the index for an occupied orbital, $o_0$, by calling the `index` function:"
   ]
  },
  {
   "cell_type": "code",
   "execution_count": 5,
   "metadata": {
    "tags": []
   },
   "outputs": [
    {
     "data": {
      "text/plain": [
       "o0"
      ]
     },
     "execution_count": 5,
     "metadata": {},
     "output_type": "execute_result"
    }
   ],
   "source": [
    "idx = w.index('o',0); idx"
   ]
  },
  {
   "cell_type": "markdown",
   "metadata": {},
   "source": [
    "When we render this to LaTeX using the (member) funtion `latex()`, wick&d uses pretty indices instead"
   ]
  },
  {
   "cell_type": "code",
   "execution_count": 30,
   "metadata": {},
   "outputs": [
    {
     "data": {
      "text/plain": [
       "'i'"
      ]
     },
     "execution_count": 30,
     "metadata": {},
     "output_type": "execute_result"
    }
   ],
   "source": [
    "idx.latex()"
   ]
  },
  {
   "cell_type": "markdown",
   "metadata": {},
   "source": [
    "In this notebook we also defined a function called `latex()` that can render any object that has a member function called `latex()`. Here is what happens if we print some indices"
   ]
  },
  {
   "cell_type": "code",
   "execution_count": 40,
   "metadata": {},
   "outputs": [
    {
     "data": {
      "text/latex": [
       "$\\displaystyle i$"
      ],
      "text/plain": [
       "<IPython.core.display.Math object>"
      ]
     },
     "metadata": {},
     "output_type": "display_data"
    },
    {
     "data": {
      "text/latex": [
       "$\\displaystyle k$"
      ],
      "text/plain": [
       "<IPython.core.display.Math object>"
      ]
     },
     "metadata": {},
     "output_type": "display_data"
    },
    {
     "data": {
      "text/latex": [
       "$\\displaystyle a$"
      ],
      "text/plain": [
       "<IPython.core.display.Math object>"
      ]
     },
     "metadata": {},
     "output_type": "display_data"
    },
    {
     "data": {
      "text/latex": [
       "$\\displaystyle c$"
      ],
      "text/plain": [
       "<IPython.core.display.Math object>"
      ]
     },
     "metadata": {},
     "output_type": "display_data"
    }
   ],
   "source": [
    "latex(w.index('o',0))\n",
    "latex(w.index('o',2))\n",
    "latex(w.index('v',0))\n",
    "latex(w.index('v',2))"
   ]
  },
  {
   "cell_type": "markdown",
   "metadata": {},
   "source": [
    "## Second quantized operators\n",
    "\n",
    "We can similarly construct second quantized operators for fermions and bosons using the functions `Xcre` and `Xann`, where `X` = `F` for fermions and `X` = `B` for bosons. The following is an example of creating the fermionic operators $\\hat{a}_{o_0}$ and $\\hat{a}^\\dagger_{o_1}$"
   ]
  },
  {
   "cell_type": "code",
   "execution_count": 6,
   "metadata": {},
   "outputs": [
    {
     "data": {
      "text/plain": [
       "(a+(o0), a-(o1))"
      ]
     },
     "execution_count": 6,
     "metadata": {},
     "output_type": "execute_result"
    }
   ],
   "source": [
    "cre = w.Fcre('o',0)\n",
    "ann = w.Fann('o',1)\n",
    "cre, ann"
   ]
  },
  {
   "cell_type": "markdown",
   "metadata": {},
   "source": [
    "Creation operators are indicated with `a+`, while annihilation operators with with `a-`.\n",
    "\n",
    "Bosonic operators are similarly defined:"
   ]
  },
  {
   "cell_type": "code",
   "execution_count": 7,
   "metadata": {},
   "outputs": [
    {
     "data": {
      "text/plain": [
       "(b+(o0), b-(o1))"
      ]
     },
     "execution_count": 7,
     "metadata": {},
     "output_type": "execute_result"
    }
   ],
   "source": [
    "cre = w.Bcre('o',0)\n",
    "ann = w.Bann('o',1)\n",
    "cre, ann"
   ]
  },
  {
   "cell_type": "markdown",
   "metadata": {},
   "source": [
    "## Tensors\n",
    "\n",
    "Another basic class in wick&d is `Tensor`, used to represent tensors. Tensor creation follows an approach similar to that of creating `SQOperators`, where we have to specify the tensor indices.\n",
    "Here we start by creating the tensor $T_{v_0}^{o_0}$ using the function `tensor`. This function take a label (\"T\"), a list of lower indices (specified as a product of space label and index cardinal number), a list of upper indices, and the tensor symmetry.\n",
    "\n",
    "The allowed values for the tensor symmetry are:\n",
    "- `w.sym.none`: No symmetry\n",
    "- `w.sym.symm`: Symmetric with separate permutations of upper and lower indices\n",
    "- `w.sym.anti`: Antisymmetric with separate permutations of upper and lower indices"
   ]
  },
  {
   "cell_type": "code",
   "execution_count": 21,
   "metadata": {},
   "outputs": [
    {
     "data": {
      "text/latex": [
       "$\\displaystyle T^{i}_{a}$"
      ],
      "text/plain": [
       "<IPython.core.display.Math object>"
      ]
     },
     "metadata": {},
     "output_type": "display_data"
    }
   ],
   "source": [
    "t = w.tensor(\"T\",[['v',0]],[['o',0]],w.sym.none)\n",
    "latex(t)"
   ]
  },
  {
   "cell_type": "markdown",
   "metadata": {},
   "source": [
    "Here is a more elaborate example that builds the antisymmetric four-index tensor $V_{v_0 v_1}^{o_0 o_1}$"
   ]
  },
  {
   "cell_type": "code",
   "execution_count": 9,
   "metadata": {},
   "outputs": [
    {
     "data": {
      "text/plain": [
       "V^{o0,o1}_{v0,v1}"
      ]
     },
     "execution_count": 9,
     "metadata": {},
     "output_type": "execute_result"
    }
   ],
   "source": [
    "t = w.tensor(\"V\",[['v',0],['v',1]],[['o',0],['o',1]],w.sym.anti); t"
   ]
  },
  {
   "cell_type": "code",
   "execution_count": 18,
   "metadata": {},
   "outputs": [
    {
     "data": {
      "text/latex": [
       "$\\displaystyle V^{i j}_{a b}$"
      ],
      "text/plain": [
       "<IPython.core.display.Math object>"
      ]
     },
     "metadata": {},
     "output_type": "display_data"
    }
   ],
   "source": [
    "latex(t)"
   ]
  }
 ],
 "metadata": {
  "anaconda-cloud": {},
  "interpreter": {
   "hash": "88f88d9c6713632702ca46f35cc29abd40712363bdc79e6cb9f82b3a54331305"
  },
  "kernelspec": {
   "display_name": "Python 3",
   "language": "python",
   "name": "python3"
  },
  "language_info": {
   "codemirror_mode": {
    "name": "ipython",
    "version": 3
   },
   "file_extension": ".py",
   "mimetype": "text/x-python",
   "name": "python",
   "nbconvert_exporter": "python",
   "pygments_lexer": "ipython3",
   "version": "3.9.4"
  }
 },
 "nbformat": 4,
 "nbformat_minor": 4
}
