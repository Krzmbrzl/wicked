{
 "cells": [
  {
   "cell_type": "markdown",
   "metadata": {},
   "source": [
    "# Basics of Wick&d\n",
    "\n",
    "## Loading the module\n",
    "\n",
    "To use wick&d you will have to first import the module `wicked`. Here we abbreviate it with `w` for convenience. We also define a function (`show_latex`) to display objects in LaTeX format."
   ]
  },
  {
   "cell_type": "code",
   "execution_count": 1,
   "metadata": {},
   "outputs": [],
   "source": [
    "import wicked as w\n",
    "from IPython.display import display, Math, Latex\n",
    "\n",
    "def latex(expr):\n",
    "    \"\"\"Function to render any object that has a member latex() function\"\"\"\n",
    "    display(Math(expr.latex()))"
   ]
  },
  {
   "cell_type": "markdown",
   "metadata": {},
   "source": [
    "## The OrbitalsSpaceInfo object\n",
    "\n",
    "At the base of wick&d is the `OrbitalsSpaceInfo` class, which holds information about the orbital space defined. We get get access to this object via the function `get_osi()`. Calling the print function we can the see information about the orbital spaces defined. When wick&d is initialized, no orbital space is defined:"
   ]
  },
  {
   "cell_type": "code",
   "execution_count": 2,
   "metadata": {},
   "outputs": [
    {
     "name": "stdout",
     "output_type": "stream",
     "text": [
      "\n"
     ]
    }
   ],
   "source": [
    "osi = w.osi()\n",
    "print(str(osi))"
   ]
  },
  {
   "cell_type": "markdown",
   "metadata": {},
   "source": [
    "## Defining orbital spaces\n",
    "\n",
    "\n",
    "By default, wick&d defines no orbital spaces. To define an orbital space one must specify:\n",
    "- The label (a single character, e.g., 'o' for occupied)\n",
    "- The type of operator field (a string, one of `[\"fermion\",\"boson\"]`)\n",
    "- The type of reference state associated with this space (a string, one of `[\"occupied\", \"unoccupied\", \"general\"]`)\n",
    "- The *pretty* indices that we associate with this space (e.g., `['i','j','k']` for occupied orbitals)\n",
    "\n",
    "Wick&d defines two types of operator fields:\n",
    "- **Fermion** (`fermion`): anticommuting fermionic operators\n",
    "- **Boson** (`boson`): commuting bosonic operators\n",
    "\n",
    "Wick&d defines three types of occupations associated to each space:\n",
    "- **Occupied** (`occupied`): orbitals that are occupied in the vacuum (applies to fermions)\n",
    "- **Unoccupied** (`unoccupied`): orbitals that are unoccupied in the vacuum\n",
    "- **General** (`general`): orbitals that are partially occupied in the vacuum\n",
    "\n",
    "Here are some example of how to define orbitals for different types of vacua:\n",
    "- **Physical vacuum**: specify only one space of unoccupied orbitals\n",
    "- **A single determinant (Fermi vacuum)**: specify only two spaces, occupied and unoccupied orbitals\n",
    "- **Linear combination of determinants (Generalized vacuum)**: specify three spaces, occupied, general, and unoccupied orbitals\n",
    "\n",
    "In the next lines of code, we reset these orbitals and define the orbital spaces for a Fermi vacuum (occupied and unoccupied)"
   ]
  },
  {
   "cell_type": "code",
   "execution_count": 3,
   "metadata": {},
   "outputs": [],
   "source": [
    "w.reset_space()\n",
    "w.add_space(\"o\", \"fermion\", \"occupied\", ['i','j','k','l','m'])\n",
    "w.add_space(\"v\", \"fermion\", \"unoccupied\", ['a','b','c','d','e','f'])\n",
    "w.add_space(\"g\", \"fermion\", \"general\", ['u','v','w','x','y','z'])\n",
    "w.add_space(\"p\", \"boson\", \"unoccupied\", [])"
   ]
  },
  {
   "cell_type": "markdown",
   "metadata": {},
   "source": [
    "We can now verify that the orbital spaces have been updated"
   ]
  },
  {
   "cell_type": "code",
   "execution_count": 4,
   "metadata": {},
   "outputs": [
    {
     "name": "stdout",
     "output_type": "stream",
     "text": [
      "space label: o\n",
      "field type: fermion\n",
      "space type: occupied\n",
      "indices: [i,j,k,l,m]\n",
      "\n",
      "space label: v\n",
      "field type: fermion\n",
      "space type: unoccupied\n",
      "indices: [a,b,c,d,e,f]\n",
      "\n",
      "space label: g\n",
      "field type: fermion\n",
      "space type: general\n",
      "indices: [u,v,w,x,y,z]\n",
      "\n",
      "space label: p\n",
      "field type: boson\n",
      "space type: unoccupied\n",
      "indices: []\n"
     ]
    }
   ],
   "source": [
    "print(str(osi))"
   ]
  },
  {
   "cell_type": "markdown",
   "metadata": {},
   "source": [
    "$$\n",
    "\\underbrace{\n",
    "    h_{p}^{q}\n",
    "}_{\\mathrm{Tensor}}\n",
    "\\hat{a}_p^\\dagger \\underbrace{\n",
    "    \\hat{a}_q\n",
    "}_{\\mathrm{SQOperator}}\n",
    "$$\n",
    "\n",
    "$$\n",
    "\\underbrace{\n",
    "\\underbrace{\n",
    "    h_{p}^{q} \\hat{a}_p^\\dagger \\hat{a}_q\n",
    "}_{\\mathrm{Term}}\n",
    "+\n",
    "\\underbrace{\n",
    "    \\frac{1}{4}\n",
    "\\underbrace{\n",
    "    v_{pq}^{rs} \\hat{a}_p^\\dagger \\hat{a}_q^\\dagger \\hat{a}_s \\hat{a}_r\n",
    "}_{\\mathrm{SymbolicTerm}}\n",
    "}_{\\mathrm{Term}}\n",
    "}_{\\mathrm{Expression}}\n",
    "$$"
   ]
  },
  {
   "cell_type": "markdown",
   "metadata": {},
   "source": [
    "## Orbital indices\n",
    "\n",
    "To identify orbitals wick&d defines a class (`Index`) that stores indices efficiently.\n",
    "To create an index we need to specify the space and a cardinal number associated with the index (to distinguish multiple indices that refer to the same space). Here we create the index for an occupied orbital, $o_0$, by calling the `index` function passing the string `o_0`. We can alternatively omit the underscore and just call this function with `o0`:"
   ]
  },
  {
   "cell_type": "code",
   "execution_count": 5,
   "metadata": {
    "tags": []
   },
   "outputs": [
    {
     "name": "stdout",
     "output_type": "stream",
     "text": [
      "o0\n",
      "o0\n"
     ]
    }
   ],
   "source": [
    "idx = w.index('o_0')\n",
    "idx2 = w.index('o0')\n",
    "print(idx)\n",
    "print(idx2)"
   ]
  },
  {
   "cell_type": "markdown",
   "metadata": {},
   "source": [
    "When we render this to LaTeX using the (member) funtion `latex()`, wick&d uses pretty indices instead"
   ]
  },
  {
   "cell_type": "code",
   "execution_count": 6,
   "metadata": {},
   "outputs": [
    {
     "name": "stdout",
     "output_type": "stream",
     "text": [
      "o0\n"
     ]
    },
    {
     "data": {
      "text/plain": [
       "'i'"
      ]
     },
     "execution_count": 6,
     "metadata": {},
     "output_type": "execute_result"
    }
   ],
   "source": [
    "print(idx)\n",
    "idx.latex()"
   ]
  },
  {
   "cell_type": "markdown",
   "metadata": {},
   "source": [
    "In this notebook we also defined a function called `latex()` that can render any object that has a member function called `latex()`. Here is what happens if we print some indices"
   ]
  },
  {
   "cell_type": "code",
   "execution_count": 7,
   "metadata": {},
   "outputs": [
    {
     "data": {
      "text/latex": [
       "$\\displaystyle i$"
      ],
      "text/plain": [
       "<IPython.core.display.Math object>"
      ]
     },
     "metadata": {},
     "output_type": "display_data"
    },
    {
     "data": {
      "text/latex": [
       "$\\displaystyle k$"
      ],
      "text/plain": [
       "<IPython.core.display.Math object>"
      ]
     },
     "metadata": {},
     "output_type": "display_data"
    },
    {
     "data": {
      "text/latex": [
       "$\\displaystyle a$"
      ],
      "text/plain": [
       "<IPython.core.display.Math object>"
      ]
     },
     "metadata": {},
     "output_type": "display_data"
    }
   ],
   "source": [
    "latex(w.index('o_0'))\n",
    "latex(w.index('o_2'))\n",
    "latex(w.index('v_0'))"
   ]
  },
  {
   "cell_type": "markdown",
   "metadata": {},
   "source": [
    "## Second quantized operators\n",
    "\n",
    "We can similarly construct second quantized operators for fermions and bosons using the functions `cre` and `ann`. The following is an example of creating the fermionic operators $\\hat{a}_{o_0}$ and $\\hat{a}^\\dagger_{o_1}$. Note that the type of field (fermion/boson) is consistent with the one specified when defining the orbitals space information."
   ]
  },
  {
   "cell_type": "code",
   "execution_count": 8,
   "metadata": {},
   "outputs": [
    {
     "data": {
      "text/plain": [
       "(a+(o0), a-(o1))"
      ]
     },
     "execution_count": 8,
     "metadata": {},
     "output_type": "execute_result"
    }
   ],
   "source": [
    "cre = w.cre('o0')\n",
    "ann = w.ann('o1')\n",
    "cre, ann"
   ]
  },
  {
   "cell_type": "markdown",
   "metadata": {},
   "source": [
    "Creation operators are indicated with `a+`, while annihilation operators with with `a-`.\n",
    "\n",
    "Bosonic operators are similarly defined:"
   ]
  },
  {
   "cell_type": "code",
   "execution_count": 10,
   "metadata": {},
   "outputs": [
    {
     "data": {
      "text/plain": [
       "(b+(p0), b-(p1))"
      ]
     },
     "execution_count": 10,
     "metadata": {},
     "output_type": "execute_result"
    }
   ],
   "source": [
    "cre = w.cre('p0')\n",
    "ann = w.ann('p1')\n",
    "cre, ann"
   ]
  },
  {
   "cell_type": "markdown",
   "metadata": {},
   "source": [
    "## Tensors\n",
    "\n",
    "Another basic class in wick&d is `Tensor`, used to represent tensors. Tensor creation follows an approach similar to that of creating `SQOperators`, where we have to specify the tensor indices.\n",
    "Here we start by creating the tensor $T_{v_0}^{o_0}$ using the function `tensor`. This function take a label (\"T\"), a list of lower indices (specified as a product of space label and index cardinal number), a list of upper indices, and the tensor symmetry.\n",
    "\n",
    "The allowed values for the tensor symmetry are:\n",
    "- `w.sym.none`: No symmetry\n",
    "- `w.sym.symm`: Symmetric with separate permutations of upper and lower indices\n",
    "- `w.sym.anti`: Antisymmetric with separate permutations of upper and lower indices"
   ]
  },
  {
   "cell_type": "code",
   "execution_count": 11,
   "metadata": {},
   "outputs": [
    {
     "data": {
      "text/latex": [
       "$\\displaystyle t^{i}_{a}$"
      ],
      "text/plain": [
       "<IPython.core.display.Math object>"
      ]
     },
     "metadata": {},
     "output_type": "display_data"
    }
   ],
   "source": [
    "t = w.tensor(label=\"t\", lower=['v0'], upper=['o0'], symmetry=w.sym.none)\n",
    "latex(t)"
   ]
  },
  {
   "cell_type": "markdown",
   "metadata": {},
   "source": [
    "Here is a more elaborate example that builds the antisymmetric four-index tensor $V_{v_0 v_1}^{o_0 o_1}$"
   ]
  },
  {
   "cell_type": "code",
   "execution_count": 9,
   "metadata": {},
   "outputs": [
    {
     "data": {
      "text/plain": [
       "V^{o0,o1}_{v0,v1}"
      ]
     },
     "execution_count": 9,
     "metadata": {},
     "output_type": "execute_result"
    }
   ],
   "source": [
    "t = w.tensor(\"V\",['v0','v1'],['o0','o1'],w.sym.anti); t"
   ]
  },
  {
   "cell_type": "code",
   "execution_count": 10,
   "metadata": {},
   "outputs": [
    {
     "data": {
      "text/latex": [
       "$\\displaystyle V^{i j}_{a b}$"
      ],
      "text/plain": [
       "<IPython.core.display.Math object>"
      ]
     },
     "metadata": {},
     "output_type": "display_data"
    }
   ],
   "source": [
    "latex(t)"
   ]
  }
 ],
 "metadata": {
  "anaconda-cloud": {},
  "interpreter": {
   "hash": "88f88d9c6713632702ca46f35cc29abd40712363bdc79e6cb9f82b3a54331305"
  },
  "kernelspec": {
   "display_name": "Python 3 (ipykernel)",
   "language": "python",
   "name": "python3"
  },
  "language_info": {
   "codemirror_mode": {
    "name": "ipython",
    "version": 3
   },
   "file_extension": ".py",
   "mimetype": "text/x-python",
   "name": "python",
   "nbconvert_exporter": "python",
   "pygments_lexer": "ipython3",
   "version": "3.9.9"
  }
 },
 "nbformat": 4,
 "nbformat_minor": 4
}
