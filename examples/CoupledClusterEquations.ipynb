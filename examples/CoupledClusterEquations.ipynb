{
 "cells": [
  {
   "cell_type": "markdown",
   "metadata": {},
   "source": [
    "# Automatic generation of coupled cluster equations\n",
    "\n",
    "## Load wick&d"
   ]
  },
  {
   "cell_type": "code",
   "execution_count": 25,
   "metadata": {},
   "outputs": [],
   "source": [
    "import wicked as w\n",
    "import time\n",
    "from IPython.display import display, Math, Latex\n",
    "\n",
    "def latex(expr):\n",
    "    \"\"\"Function to render any object that has a member latex() function\"\"\"\n",
    "    display(Math(expr.latex()))"
   ]
  },
  {
   "cell_type": "markdown",
   "metadata": {},
   "source": [
    "# Define the orbital spaces\n",
    "Here we define two orbital space and assign indices\n",
    "1. Occupied\n",
    "2. Virtuals"
   ]
  },
  {
   "cell_type": "code",
   "execution_count": 19,
   "metadata": {},
   "outputs": [],
   "source": [
    "w.reset_space()\n",
    "w.add_space('v','fermion','unoccupied',['a','b','c','d','e','f'])\n",
    "w.add_space('o','fermion','occupied',['i','j','k','l','m','n'])"
   ]
  },
  {
   "cell_type": "markdown",
   "metadata": {},
   "source": [
    "## Define the Hamiltonian operator"
   ]
  },
  {
   "cell_type": "code",
   "execution_count": 20,
   "metadata": {},
   "outputs": [],
   "source": [
    "E0 = w.op(\"E_0\",[\"\"])\n",
    "F = w.utils.gen_op('f',1,'ov','ov')\n",
    "V = w.utils.gen_op('v',2,'ov','ov')\n",
    "H = E0 + F + V"
   ]
  },
  {
   "cell_type": "markdown",
   "metadata": {},
   "source": [
    "## Define a function to compute the cluster operator truncated to level *n*"
   ]
  },
  {
   "cell_type": "code",
   "execution_count": 21,
   "metadata": {},
   "outputs": [],
   "source": [
    "def make_T(n):\n",
    "    components = []\n",
    "    for k in range(1,n + 1):\n",
    "        label = f\"{'v+' * k} {'o' * k}\"\n",
    "        components.append(label)\n",
    "    return w.op(\"t\",components)"
   ]
  },
  {
   "cell_type": "markdown",
   "metadata": {},
   "source": [
    "## Setup the similarity-transformed Hamiltonian and compute expectation value"
   ]
  },
  {
   "cell_type": "code",
   "execution_count": 38,
   "metadata": {},
   "outputs": [
    {
     "name": "stdout",
     "output_type": "stream",
     "text": [
      "Generated equations in 2.439585500000021 seconds\n",
      "Rank 1: 15 equations\n",
      "Rank 2: 38 equations\n",
      "Rank 3: 53 equations\n",
      "Rank 4: 74 equations\n"
     ]
    }
   ],
   "source": [
    "def cc_equations(n):\n",
    "    start = time.perf_counter()\n",
    "    wt = w.WickTheorem()\n",
    "\n",
    "    T = make_T(n)\n",
    "    Hbar = w.bch_series(H,T,4)\n",
    "    expr = wt.contract(w.rational(1), Hbar, 0, 2 * n)\n",
    "    mbeq = expr.to_manybody_equation(\"r\")\n",
    "    end = time.perf_counter()    \n",
    "    t = end - start\n",
    "    print(f'Generated equations in {t} seconds')\n",
    "\n",
    "    equations = {}\n",
    "    for r in range(1,n + 1):\n",
    "        s = f\"{'o' * r}|{'v' * r}\" \n",
    "        equations[r] = (mbeq[s])\n",
    "        \n",
    "    for rank,eq in equations.items():\n",
    "        print(f'Rank {rank}: {len(eq)} equations')        \n",
    "        \n",
    "    return equations\n",
    "\n",
    "equations = cc_equations(4)"
   ]
  }
 ],
 "metadata": {
  "anaconda-cloud": {},
  "interpreter": {
   "hash": "88f88d9c6713632702ca46f35cc29abd40712363bdc79e6cb9f82b3a54331305"
  },
  "kernelspec": {
   "display_name": "Python 3 (ipykernel)",
   "language": "python",
   "name": "python3"
  },
  "language_info": {
   "codemirror_mode": {
    "name": "ipython",
    "version": 3
   },
   "file_extension": ".py",
   "mimetype": "text/x-python",
   "name": "python",
   "nbconvert_exporter": "python",
   "pygments_lexer": "ipython3",
   "version": "3.9.9"
  }
 },
 "nbformat": 4,
 "nbformat_minor": 1
}
