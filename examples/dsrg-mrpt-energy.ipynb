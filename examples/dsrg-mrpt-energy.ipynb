{
 "cells": [
  {
   "cell_type": "markdown",
   "metadata": {},
   "source": [
    "# Derivation of the DSRG-MRPT2 energy expression\n",
    "\n",
    "The goal of this notebook is to use wicked to derive and implement the energy expression for the DSRG-MRPT2 method.\n",
    "\n",
    "The energy can be expressed as\n",
    "$$\n",
    "E^\\text{DSRG-MRPT2} = \\langle \\Phi|[\\tilde{F}^{(1)} + \\tilde{V}^{(1)}, \\hat{T}_1 + \\hat{T}_2 |\\Phi\\rangle\n",
    "$$"
   ]
  },
  {
   "cell_type": "code",
   "execution_count": 1,
   "metadata": {},
   "outputs": [],
   "source": [
    "import wicked as w\n",
    "import numpy as np\n",
    "\n",
    "import re"
   ]
  },
  {
   "cell_type": "markdown",
   "metadata": {},
   "source": [
    "We begin by defining the orbital spaces for a CAS reference"
   ]
  },
  {
   "cell_type": "code",
   "execution_count": 2,
   "metadata": {},
   "outputs": [],
   "source": [
    "w.reset_space()\n",
    "w.add_space('c', 'fermion', 'occupied', ['m', 'n','o','p'])\n",
    "w.add_space('a', 'fermion', 'general', [\"u\",\"v\",\"w\",\"x\",\"y\",\"z\"])\n",
    "w.add_space('v', 'fermion', 'unoccupied', ['e', 'f','g','h'])\n",
    "wt = w.WickTheorem()"
   ]
  },
  {
   "cell_type": "markdown",
   "metadata": {},
   "source": [
    "Next, we define a function to create a general operator"
   ]
  },
  {
   "cell_type": "markdown",
   "metadata": {},
   "source": [
    "## Definition of the operators"
   ]
  },
  {
   "cell_type": "code",
   "execution_count": 3,
   "metadata": {},
   "outputs": [],
   "source": [
    "Ftop = w.gen_op('Ft',1,'cav','cav',diagonal=False)\n",
    "Vtop = w.gen_op('Vt',2,'cav','cav')\n",
    "T1op = w.gen_op('T1',1,'av','ca',diagonal=False)\n",
    "T2op = w.gen_op('T2',2,'av','ca',diagonal=False)"
   ]
  },
  {
   "cell_type": "code",
   "execution_count": 4,
   "metadata": {},
   "outputs": [],
   "source": [
    "import re\n",
    "\n",
    "def get_contraction_tensors(contraction):\n",
    "    l = []\n",
    "    m = re.search('einsum\\([\"\\'][a-zA-Z,]*->[a-zA-Z,]*[\"\\'],(.*)\\)', contraction)\n",
    "    if m:\n",
    "        tensors = m.groups()[0].split(',')\n",
    "        for t in tensors:\n",
    "            m2 = re.search('([a-zA-Z0-9]+)\\[[\"\\'](\\w*)[\"\\']\\]', t)\n",
    "            if m2:\n",
    "                tensor,indices = m2.groups()\n",
    "                l.append((tensor,indices))\n",
    "    return l"
   ]
  },
  {
   "cell_type": "code",
   "execution_count": 5,
   "metadata": {},
   "outputs": [
    {
     "data": {
      "text/latex": [
       "$\\displaystyle + Ft^{e}_{u} T^{v}_{e} \\gamma^{u}_{v} \\\\ \n",
       "+ Ft^{e}_{m} T^{m}_{e} \\\\ \n",
       "+ Ft^{u}_{m} T^{m}_{v} \\eta^{v}_{u}$"
      ],
      "text/plain": [
       "<IPython.core.display.Math object>"
      ]
     },
     "metadata": {},
     "output_type": "display_data"
    },
    {
     "name": "stdout",
     "output_type": "stream",
     "text": [
      "Defined the function:\n",
      "\n",
      "def evaluate_energy_0():\n",
      "    # DSRG-MRPT2 energy term\n",
      "    R = 0.0\n",
      "    R += 1.000000000 * np.einsum(\"eu,ve,uv->\",Ft[\"va\"],T1[\"av\"],gamma1[\"aa\"])\n",
      "    R += 1.000000000 * np.einsum(\"em,me->\",Ft[\"vc\"],T1[\"cv\"])\n",
      "    R += 1.000000000 * np.einsum(\"um,mv,vu->\",Ft[\"ac\"],T1[\"ca\"],eta1[\"aa\"])\n",
      "    return R\n",
      "\n"
     ]
    },
    {
     "data": {
      "text/latex": [
       "$\\displaystyle -\\frac{1}{2} Ft^{e}_{u} T^{w x}_{v e} \\lambda^{u v}_{w x} \\\\ \n",
       "-\\frac{1}{2} Ft^{u}_{m} T^{m x}_{v w} \\lambda^{v w}_{u x}$"
      ],
      "text/plain": [
       "<IPython.core.display.Math object>"
      ]
     },
     "metadata": {},
     "output_type": "display_data"
    },
    {
     "name": "stdout",
     "output_type": "stream",
     "text": [
      "Defined the function:\n",
      "\n",
      "def evaluate_energy_1():\n",
      "    # DSRG-MRPT2 energy term\n",
      "    R = 0.0\n",
      "    R += -0.500000000 * np.einsum(\"eu,wxve,uvwx->\",Ft[\"va\"],T2[\"aaav\"],lambda2[\"aaaa\"])\n",
      "    R += -0.500000000 * np.einsum(\"um,mxvw,vwux->\",Ft[\"ac\"],T2[\"caaa\"],lambda2[\"aaaa\"])\n",
      "    return R\n",
      "\n"
     ]
    },
    {
     "data": {
      "text/latex": [
       "$\\displaystyle -\\frac{1}{2} T^{u}_{e} Vt^{x e}_{v w} \\lambda^{v w}_{u x} \\\\ \n",
       "-\\frac{1}{2} T^{m}_{u} Vt^{w x}_{m v} \\lambda^{u v}_{w x}$"
      ],
      "text/plain": [
       "<IPython.core.display.Math object>"
      ]
     },
     "metadata": {},
     "output_type": "display_data"
    },
    {
     "name": "stdout",
     "output_type": "stream",
     "text": [
      "Defined the function:\n",
      "\n",
      "def evaluate_energy_2():\n",
      "    # DSRG-MRPT2 energy term\n",
      "    R = 0.0\n",
      "    R += -0.500000000 * np.einsum(\"ue,xevw,vwux->\",T1[\"av\"],Vt[\"avaa\"],lambda2[\"aaaa\"])\n",
      "    R += -0.500000000 * np.einsum(\"mu,wxmv,uvwx->\",T1[\"ca\"],Vt[\"aaca\"],lambda2[\"aaaa\"])\n",
      "    return R\n",
      "\n"
     ]
    },
    {
     "data": {
      "text/latex": [
       "$\\displaystyle +\\frac{1}{4} T^{u v}_{e f} Vt^{e f}_{w x} \\gamma^{w}_{u} \\gamma^{x}_{v} \\\\ \n",
       "+\\frac{1}{8} T^{u v}_{e f} Vt^{e f}_{w x} \\lambda^{w x}_{u v} \\\\ \n",
       "+\\frac{1}{2} T^{m u}_{e f} Vt^{e f}_{m v} \\gamma^{v}_{u} \\\\ \n",
       "+\\frac{1}{4} T^{m n}_{e f} Vt^{e f}_{m n} \\\\ \n",
       "+\\frac{1}{2} T^{v w}_{u e} Vt^{z e}_{x y} \\eta^{u}_{z} \\gamma^{x}_{v} \\gamma^{y}_{w} \\\\ \n",
       "+\\frac{1}{4} T^{v w}_{u e} Vt^{z e}_{x y} \\eta^{u}_{z} \\lambda^{x y}_{v w} \\\\ \n",
       "+ T^{v w}_{u e} Vt^{z e}_{x y} \\gamma^{x}_{v} \\lambda^{u y}_{w z} \\\\ \n",
       "-\\frac{1}{4} T^{v w}_{u e} Vt^{z e}_{x y} \\lambda^{u x y}_{v w z} \\\\ \n",
       "+ T^{m v}_{u e} Vt^{x e}_{m w} \\eta^{u}_{x} \\gamma^{w}_{v} \\\\ \n",
       "+ T^{m v}_{u e} Vt^{x e}_{m w} \\lambda^{u w}_{v x} \\\\ \n",
       "+\\frac{1}{2} T^{m n}_{u e} Vt^{v e}_{m n} \\eta^{u}_{v} \\\\ \n",
       "+\\frac{1}{2} T^{m w}_{u v} Vt^{y z}_{m x} \\eta^{u}_{y} \\eta^{v}_{z} \\gamma^{x}_{w} \\\\ \n",
       "+ T^{m w}_{u v} Vt^{y z}_{m x} \\eta^{u}_{y} \\lambda^{v x}_{w z} \\\\ \n",
       "+\\frac{1}{4} T^{m w}_{u v} Vt^{y z}_{m x} \\gamma^{x}_{w} \\lambda^{u v}_{y z} \\\\ \n",
       "+\\frac{1}{4} T^{m w}_{u v} Vt^{y z}_{m x} \\lambda^{u v x}_{w y z} \\\\ \n",
       "+\\frac{1}{4} T^{m n}_{u v} Vt^{w x}_{m n} \\eta^{u}_{w} \\eta^{v}_{x} \\\\ \n",
       "+\\frac{1}{8} T^{m n}_{u v} Vt^{w x}_{m n} \\lambda^{u v}_{w x}$"
      ],
      "text/plain": [
       "<IPython.core.display.Math object>"
      ]
     },
     "metadata": {},
     "output_type": "display_data"
    },
    {
     "name": "stdout",
     "output_type": "stream",
     "text": [
      "Defined the function:\n",
      "\n",
      "def evaluate_energy_3():\n",
      "    # DSRG-MRPT2 energy term\n",
      "    R = 0.0\n",
      "    R += 0.250000000 * np.einsum(\"uvef,efwx,wu,xv->\",T2[\"aavv\"],Vt[\"vvaa\"],gamma1[\"aa\"],gamma1[\"aa\"])\n",
      "    R += 0.125000000 * np.einsum(\"uvef,efwx,wxuv->\",T2[\"aavv\"],Vt[\"vvaa\"],lambda2[\"aaaa\"])\n",
      "    R += 0.500000000 * np.einsum(\"muef,efmv,vu->\",T2[\"cavv\"],Vt[\"vvca\"],gamma1[\"aa\"])\n",
      "    R += 0.250000000 * np.einsum(\"mnef,efmn->\",T2[\"ccvv\"],Vt[\"vvcc\"])\n",
      "    R += 0.500000000 * np.einsum(\"vwue,zexy,uz,xv,yw->\",T2[\"aaav\"],Vt[\"avaa\"],eta1[\"aa\"],gamma1[\"aa\"],gamma1[\"aa\"])\n",
      "    R += 0.250000000 * np.einsum(\"vwue,zexy,uz,xyvw->\",T2[\"aaav\"],Vt[\"avaa\"],eta1[\"aa\"],lambda2[\"aaaa\"])\n",
      "    R += 1.000000000 * np.einsum(\"vwue,zexy,xv,uywz->\",T2[\"aaav\"],Vt[\"avaa\"],gamma1[\"aa\"],lambda2[\"aaaa\"])\n",
      "    R += -0.250000000 * np.einsum(\"vwue,zexy,uxyvwz->\",T2[\"aaav\"],Vt[\"avaa\"],lambda3[\"aaaaaa\"])\n",
      "    R += 1.000000000 * np.einsum(\"mvue,xemw,ux,wv->\",T2[\"caav\"],Vt[\"avca\"],eta1[\"aa\"],gamma1[\"aa\"])\n",
      "    R += 1.000000000 * np.einsum(\"mvue,xemw,uwvx->\",T2[\"caav\"],Vt[\"avca\"],lambda2[\"aaaa\"])\n",
      "    R += 0.500000000 * np.einsum(\"mnue,vemn,uv->\",T2[\"ccav\"],Vt[\"avcc\"],eta1[\"aa\"])\n",
      "    R += 0.500000000 * np.einsum(\"mwuv,yzmx,uy,vz,xw->\",T2[\"caaa\"],Vt[\"aaca\"],eta1[\"aa\"],eta1[\"aa\"],gamma1[\"aa\"])\n",
      "    R += 1.000000000 * np.einsum(\"mwuv,yzmx,uy,vxwz->\",T2[\"caaa\"],Vt[\"aaca\"],eta1[\"aa\"],lambda2[\"aaaa\"])\n",
      "    R += 0.250000000 * np.einsum(\"mwuv,yzmx,xw,uvyz->\",T2[\"caaa\"],Vt[\"aaca\"],gamma1[\"aa\"],lambda2[\"aaaa\"])\n",
      "    R += 0.250000000 * np.einsum(\"mwuv,yzmx,uvxwyz->\",T2[\"caaa\"],Vt[\"aaca\"],lambda3[\"aaaaaa\"])\n",
      "    R += 0.250000000 * np.einsum(\"mnuv,wxmn,uw,vx->\",T2[\"ccaa\"],Vt[\"aacc\"],eta1[\"aa\"],eta1[\"aa\"])\n",
      "    R += 0.125000000 * np.einsum(\"mnuv,wxmn,uvwx->\",T2[\"ccaa\"],Vt[\"aacc\"],lambda2[\"aaaa\"])\n",
      "    return R\n",
      "\n"
     ]
    }
   ],
   "source": [
    "# this will store all the functions we will define\n",
    "functions = []\n",
    "tensors = []\n",
    "\n",
    "def make_equation(op, functions, tensors):\n",
    "    expr = wt.contract(w.rational(1,1),op, 0, 0)\n",
    "    \n",
    "    from IPython.display import display, Math\n",
    "    display(Math(expr.latex()))\n",
    "\n",
    "    mbeq = expr.to_manybody_equation(\"R\")\n",
    "\n",
    "    code = [f\"def evaluate_energy_{len(functions)}():\",\n",
    "            \"    # DSRG-MRPT2 energy term\",\n",
    "            \"    R = 0.0\"]\n",
    "    for eq in mbeq[0]:\n",
    "        contraction = eq.compile(\"einsum\")\n",
    "        if 'R' in contraction:\n",
    "            code.append(f'    {contraction}')\n",
    "            tensors.extend(get_contraction_tensors(contraction))\n",
    "            \n",
    "    code.append(f'    return R')\n",
    "    funct = '\\n'.join(code)\n",
    "\n",
    "    print(f'Defined the function:\\n\\n{funct}\\n')\n",
    "    functions.append(funct)\n",
    "\n",
    "    \n",
    "F1T1 = w.commutator(Ftop,T1op)\n",
    "make_equation(F1T1,functions,tensors)\n",
    "\n",
    "F1T2 = w.commutator(Ftop,T2op)\n",
    "make_equation(F1T2,functions,tensors)\n",
    "\n",
    "V1T1 = w.commutator(Vtop,T1op)\n",
    "make_equation(V1T1,functions,tensors)\n",
    "\n",
    "V1T2 = w.commutator(Vtop,T2op)\n",
    "make_equation(V1T2,functions,tensors)\n",
    "\n",
    "for f in functions:\n",
    "    exec(f)"
   ]
  },
  {
   "cell_type": "code",
   "execution_count": 6,
   "metadata": {},
   "outputs": [],
   "source": [
    "from collections import defaultdict\n",
    "tensors_indices = defaultdict(set)\n",
    "for tensor, label in tensors:\n",
    "    tensors_indices[tensor].add(label)\n",
    "    \n",
    "L_blocks = ['va','ac','cv','vc']\n",
    "Ft_blocks = tensors_indices['Ft']\n",
    "Vt_blocks = tensors_indices['Vt']\n",
    "T1_blocks = tensors_indices['T1']\n",
    "T2_blocks = tensors_indices['T2'] | {'cava','aava','vaaa','aaca','vaca','ccav'}\n",
    "H_blocks = Ft_blocks | Vt_blocks | T1_blocks | T2_blocks | {'cc', 'cccc', 'caca', 'aa', 'aaaa'}"
   ]
  },
  {
   "cell_type": "markdown",
   "metadata": {},
   "source": [
    "```\n",
    "    E0 (reference)                 =     -7.995916665442580\n",
    "    <[F, T1]>                      =     -0.004054866166895\n",
    "    <[F, T2]>                      =      0.005429854776796\n",
    "    <[V, T1]>                      =      0.003047425118837\n",
    "    <[V, T2]> (C_2)^4              =     -0.005258080443085\n",
    "    <[V, T2]> C_4 (C_2)^2 HH       =      0.000003585009360\n",
    "    <[V, T2]> C_4 (C_2)^2 PP       =      0.003072824360727\n",
    "    <[V, T2]> C_4 (C_2)^2 PH       =     -0.003707054687659\n",
    "    <[V, T2]> C_6 C_2              =      0.000426424806109\n",
    "    <[V, T2]>                      =     -0.005462300954549\n",
    "    DSRG-MRPT2 correlation energy  =     -0.001039887225811\n",
    "    DSRG-MRPT2 total energy        =     -7.996956552668391\n",
    "    max(T1)                        =      0.132328605821987\n",
    "    max(T2)                        =      0.051519012097388\n",
    "    ||T1||                         =      0.188661256796477\n",
    "    ||T2||                         =      0.312662669906174\n",
    "```"
   ]
  },
  {
   "cell_type": "markdown",
   "metadata": {},
   "source": [
    "To begin our computation, we run a CASSCF computation on LiH using Forte's utility function `psi4_casscf`:"
   ]
  },
  {
   "cell_type": "code",
   "execution_count": 7,
   "metadata": {},
   "outputs": [
    {
     "name": "stdout",
     "output_type": "stream",
     "text": [
      "CASSF energy (psi4):  -7.995916665443 Eh\n"
     ]
    }
   ],
   "source": [
    "import forte\n",
    "import forte.utils\n",
    "from math import isclose\n",
    "\n",
    "geom = \"\"\"0 1\n",
    "Li\n",
    "H 1 1.6\n",
    "symmetry c1\n",
    "\"\"\"\n",
    "\n",
    "basis = '6-31g'\n",
    "mo_spaces = {'RESTRICTED_DOCC' : [1], 'ACTIVE' : [2]}\n",
    "\n",
    "Ecasscf_psi4, wfn = forte.utils.psi4_casscf(geom, basis, mo_spaces)\n",
    "\n",
    "print(f\"CASSF energy (psi4):  {Ecasscf_psi4:.12f} Eh\")"
   ]
  },
  {
   "cell_type": "markdown",
   "metadata": {},
   "source": [
    "Next, use Forte's function `prepare_ints_rdms` to do the following:\n",
    "- Prepare integrals\n",
    "- Run a CASCI computation\n",
    "- Compute the RDMs\n",
    "- Canonicalize the MOs\n",
    "- Rotate the integrals to the MO basis"
   ]
  },
  {
   "cell_type": "code",
   "execution_count": 8,
   "metadata": {},
   "outputs": [
    {
     "name": "stdout",
     "output_type": "stream",
     "text": [
      "CASSF energy (forte): -7.995916665443 Eh\n"
     ]
    }
   ],
   "source": [
    "Eref, mo_space_info, ints, rdms = forte.utils.prepare_ints_rdms(wfn, mo_spaces)\n",
    "print(f\"CASSF energy (forte): {Eref:.12f} Eh\")\n",
    "assert isclose(Ecasscf_psi4,Eref)"
   ]
  },
  {
   "cell_type": "code",
   "execution_count": 9,
   "metadata": {},
   "outputs": [
    {
     "name": "stdout",
     "output_type": "stream",
     "text": [
      "Core MOs: [0]; size: 1\n",
      "Active MOs: [1, 2]; size: 2\n",
      "Virtual MOs: [3, 4, 5, 6, 7, 8, 9, 10]; size: 8\n"
     ]
    }
   ],
   "source": [
    "core = mo_space_info.corr_absolute_mo('RESTRICTED_DOCC')\n",
    "actv = mo_space_info.corr_absolute_mo('ACTIVE')\n",
    "virt = mo_space_info.corr_absolute_mo('RESTRICTED_UOCC')\n",
    "hole = mo_space_info.corr_absolute_mo('GENERALIZED HOLE')\n",
    "allm = mo_space_info.corr_absolute_mo('CORRELATED')\n",
    "\n",
    "mos = {'c': core, 'a': actv, 'v': virt}\n",
    "nmos = {k: len(v) for k, v in mos.items()}\n",
    "\n",
    "nc, na, nv = nmos['c'], nmos['a'], nmos['v']\n",
    "\n",
    "print(f\"Core MOs: {mos['c']}; size: {nmos['c']}\")\n",
    "print(f\"Active MOs: {mos['a']}; size: {nmos['a']}\")\n",
    "print(f\"Virtual MOs: {mos['v']}; size: {nmos['v']}\")"
   ]
  },
  {
   "cell_type": "markdown",
   "metadata": {},
   "source": [
    "Get the RDMs and the Hamiltonian"
   ]
  },
  {
   "cell_type": "code",
   "execution_count": 10,
   "metadata": {},
   "outputs": [],
   "source": [
    "l1, l2, l3 = forte.spinorbital_cumulants(rdms)\n",
    "lambda1 = {'aa' : l1}\n",
    "lambda2 = {'aaaa' : l2}\n",
    "lambda3 = {'aaaaaa' : l3}\n",
    "gamma1 = {'aa' : l1}\n",
    "eta1 = {'aa' : np.identity(gamma1['aa'].shape[0]) - gamma1['aa']}\n",
    "\n",
    "def make_H(blocks):\n",
    "    H = {}\n",
    "    for block in blocks:\n",
    "        if len(block) == 2:\n",
    "            H[block] = forte.spinorbital_oei(ints,*[mos[b] for b in block])\n",
    "        if len(block) == 4:\n",
    "            H[block] = forte.spinorbital_tei(ints,*[mos[b] for b in block])            \n",
    "    return H\n",
    "\n",
    "H = make_H(H_blocks)"
   ]
  },
  {
   "cell_type": "markdown",
   "metadata": {},
   "source": [
    "Next, we compute the reference energy to test the integrals and the RDMs\n",
    "\n",
    "We compute the energy as\n",
    "$$\n",
    "E = V_\\mathrm{NN} + \\sum_m^\\mathrm{C} h_{mm} + \\frac{1}{2} \\sum_{mn}^\\mathrm{C} \\langle mn \\| mn \\rangle +\n",
    " \\frac{1}{2} \\sum_{m}^\\mathrm{C} \\langle mu \\| mv \\rangle \\lambda^{v}_{u}\n",
    "+ \\sum_{uv}^\\mathrm{A} h^{u}_{v} \\lambda^{v}_{u}\n",
    "+ \\frac{1}{4} \\sum_{uvxy}^\\mathrm{A} \\langle uv \\| xy \\rangle \\left( \\lambda^{x}_{u} \\lambda^{y}_{v} - \\lambda^{x}_{v} \\lambda^{y}_{u} + \\lambda^{xy}_{uv} \\right)\n",
    "$$"
   ]
  },
  {
   "cell_type": "code",
   "execution_count": 11,
   "metadata": {},
   "outputs": [
    {
     "name": "stdout",
     "output_type": "stream",
     "text": [
      "CASSF energy (forte): -7.99591666544 Eh\n",
      "CASSF energy (forte): -7.99591666544 Eh (spinorbital)\n"
     ]
    }
   ],
   "source": [
    "Eref_test = ints.nuclear_repulsion_energy()\n",
    "Eref_test += np.einsum('mm->',H['cc'])\n",
    "Eref_test += 0.5 * np.einsum('mnmn->',H['cccc'])\n",
    "\n",
    "Eref_test += np.einsum('mumv,vu->',H['caca'],lambda1['aa'])\n",
    "\n",
    "Eref_test += np.einsum('uv,uv->',H['aa'],lambda1['aa'])\n",
    "Eref_test += 0.25 * np.einsum('uvxy,xu,yv->',H['aaaa'],lambda1['aa'],lambda1['aa'])\n",
    "Eref_test -= 0.25 * np.einsum('uvxy,xv,yu->',H['aaaa'],lambda1['aa'],lambda1['aa'])\n",
    "Eref_test += 0.25 * np.einsum('uvxy,xyuv->',H['aaaa'],lambda2['aaaa'])\n",
    "\n",
    "print(f\"CASSF energy (forte): {Eref:.11f} Eh\")\n",
    "print(f\"CASSF energy (forte): {Eref_test:.11f} Eh (spinorbital)\")"
   ]
  },
  {
   "cell_type": "markdown",
   "metadata": {},
   "source": [
    "Compute the Fock matrix"
   ]
  },
  {
   "cell_type": "code",
   "execution_count": 12,
   "metadata": {},
   "outputs": [],
   "source": [
    "def get_fock_block(p,q,rdms):\n",
    "    f = forte.spinorbital_oei(ints,p,q)\n",
    "    v = forte.spinorbital_tei(ints,p,core,q,core)\n",
    "    f += np.einsum('piqi->pq', v)\n",
    "    v = forte.spinorbital_tei(ints,p,actv,q,actv)\n",
    "    f += np.einsum('piqj,ij->pq', v, gamma1['aa']) \n",
    "    return f\n",
    "\n",
    "F = {'cc' : get_fock_block(core,core,rdms),\n",
    "     'cv' : get_fock_block(core,virt,rdms),\n",
    "     'ca' : get_fock_block(core,actv,rdms),\n",
    "     'aa' : get_fock_block(actv,actv,rdms),\n",
    "     'ac' : get_fock_block(actv,core,rdms),     \n",
    "     'vc' : get_fock_block(virt,core,rdms),\n",
    "     'va' : get_fock_block(virt,actv,rdms),\n",
    "     'vv' : get_fock_block(virt,virt,rdms),\n",
    "     'av' : get_fock_block(actv,virt,rdms),\n",
    "    }"
   ]
  },
  {
   "cell_type": "code",
   "execution_count": 13,
   "metadata": {},
   "outputs": [],
   "source": [
    "def compute_d1(F,f,spaces):\n",
    "    fi = F[spaces[0] * 2].diagonal()\n",
    "    fa = F[spaces[1] * 2].diagonal() \n",
    "    d = np.zeros((len(fi),len(fa)))\n",
    "    for i in range(len(fi)):\n",
    "        for a in range(len(fa)):\n",
    "            if i % 2 == a % 2:\n",
    "                d[i][a] = f(fi[i] - fa[a])  \n",
    "    return d\n",
    "\n",
    "def compute_d2(F,f,spaces):\n",
    "    fi = F[spaces[0] * 2].diagonal()\n",
    "    fj = F[spaces[1] * 2].diagonal()\n",
    "    fa = F[spaces[2] * 2].diagonal()    \n",
    "    fb = F[spaces[3] * 2].diagonal()\n",
    "    d = np.zeros((len(fi),len(fj),len(fa),len(fb)))\n",
    "    for i in range(len(fi)):\n",
    "        for j in range(len(fj)):\n",
    "            for a in range(len(fa)):\n",
    "                for b in range(len(fb)):\n",
    "                    if (i % 2) == (j % 2) == (a % 2) == (b % 2): # same spin case\n",
    "                        d[i][j][a][b] = f(fi[i] + fj[j] - fa[a] - fb[b])\n",
    "                    if ((i + j) % 2) * ((a + b) % 2) == 1: # opposite spin case\n",
    "                        d[i][j][a][b] = f(fi[i] + fj[j] - fa[a] - fb[b])                        \n",
    "    return d"
   ]
  },
  {
   "cell_type": "code",
   "execution_count": 14,
   "metadata": {},
   "outputs": [],
   "source": [
    "s = 0.5\n",
    "\n",
    "def denominator(x):\n",
    "    return x\n",
    "\n",
    "def regularized_denominator(x):\n",
    "    if x == 0.0:\n",
    "        return 0.0\n",
    "    return (1. - np.exp(-s * x * x)) / x\n",
    "\n",
    "Den = {'aa' : compute_d1(F,denominator,'aa')}\n",
    "D1 = {b: compute_d1(F,regularized_denominator,b) for b in T1_blocks}\n",
    "D2 = {b: compute_d2(F,regularized_denominator,b) for b in T2_blocks}"
   ]
  },
  {
   "cell_type": "code",
   "execution_count": 15,
   "metadata": {},
   "outputs": [],
   "source": [
    "def one_plus_exp_s(x):\n",
    "    return 1. + np.exp(-s * x * x)\n",
    "\n",
    "K1 = {b: compute_d1(F,one_plus_exp_s,b) for b in Ft_blocks}\n",
    "K2 = {b: compute_d2(F,one_plus_exp_s,b) for b in Vt_blocks}"
   ]
  },
  {
   "cell_type": "code",
   "execution_count": 16,
   "metadata": {},
   "outputs": [],
   "source": [
    "T2 = {b: np.multiply(H[b],D2[b]) for b in T2_blocks}\n",
    "\n",
    "T1 = {}\n",
    "for block in T1_blocks:\n",
    "    tmp = F[block].copy()\n",
    "    tmp += np.einsum('xu,iuax,xu->ia',Den['aa'],T2[f'{block[0]}a{block[1]}a'],gamma1['aa'])\n",
    "    T1[block] = np.multiply(tmp,D1[block]) "
   ]
  },
  {
   "cell_type": "code",
   "execution_count": 17,
   "metadata": {},
   "outputs": [],
   "source": [
    "def exp_s(x):\n",
    "    return np.exp(-s * x * x)\n",
    "\n",
    "L1 = {b: compute_d1(F,exp_s,b) for b in L_blocks}\n",
    "\n",
    "def make_Ft(blocks):\n",
    "    Ft = {}\n",
    "    for block in blocks:\n",
    "        Ft[block] = np.multiply(F[block],K1[block])\n",
    "        tmp = np.einsum('xu,iuax,xu->ia',Den['aa'],T2[f'{block[0]}a{block[1]}a'],gamma1['aa'])\n",
    "        Ft[block] += np.multiply(L1[block],tmp) \n",
    "    return Ft\n",
    "\n",
    "Ft = make_Ft(Ft_blocks)\n",
    "\n",
    "Vt = {b: np.multiply(H[b],K2[b]) for b in Vt_blocks}"
   ]
  },
  {
   "cell_type": "code",
   "execution_count": 18,
   "metadata": {},
   "outputs": [
    {
     "name": "stdout",
     "output_type": "stream",
     "text": [
      "       DSRG-MRPT2 correlation energy  =     -0.001039887226\n",
      "       DSRG-MRPT2 correlation energy  =      0.000000000000 (error)\n"
     ]
    }
   ],
   "source": [
    "Edsrg_corr = evaluate_energy_0() + evaluate_energy_1() + evaluate_energy_2() + evaluate_energy_3()\n",
    "\n",
    "print(f'       DSRG-MRPT2 correlation energy  ={Edsrg_corr:20.12f}')\n",
    "print(f'       DSRG-MRPT2 correlation energy  ={Edsrg_corr+0.001039887225811:20.12f} (error)')"
   ]
  },
  {
   "cell_type": "code",
   "execution_count": 19,
   "metadata": {},
   "outputs": [
    {
     "name": "stdout",
     "output_type": "stream",
     "text": [
      "       <[F, T1]>                      =     -0.004054866167\n",
      "       <[F, T1]> (error)              =     -0.000000000000\n"
     ]
    }
   ],
   "source": [
    "R = 0.0\n",
    "R += 1.000000000 * np.einsum(\"eu,ve,uv->\",Ft[\"va\"],T1[\"av\"],gamma1[\"aa\"])\n",
    "R += 1.000000000 * np.einsum(\"em,me->\",Ft[\"vc\"],T1[\"cv\"])\n",
    "R += 1.000000000 * np.einsum(\"um,mv,vu->\",Ft[\"ac\"],T1[\"ca\"],eta1[\"aa\"])\n",
    "   \n",
    "E_F_T1 = R    \n",
    "print(f'       <[F, T1]>                      ={R:20.12f}')\n",
    "print(f'       <[F, T1]> (error)              ={R+0.004054866166895:20.12f}')"
   ]
  },
  {
   "cell_type": "code",
   "execution_count": 20,
   "metadata": {},
   "outputs": [
    {
     "name": "stdout",
     "output_type": "stream",
     "text": [
      "       <[F, T2]>                      =      0.005429854777\n",
      "       <[F, T2]> (error)              =      0.000000000000\n"
     ]
    }
   ],
   "source": [
    "R = 0.0\n",
    "R += -0.500000000 * np.einsum(\"eu,wxve,uvwx->\",Ft[\"va\"],T2[\"aaav\"],lambda2[\"aaaa\"])\n",
    "R += -0.500000000 * np.einsum(\"um,mxvw,vwux->\",Ft[\"ac\"],T2[\"caaa\"],lambda2[\"aaaa\"])\n",
    "\n",
    "E_F_T2 = R\n",
    "print(f'       <[F, T2]>                      ={R:20.12f}')\n",
    "print(f'       <[F, T2]> (error)              ={R-0.005429854776796:20.12f}')"
   ]
  },
  {
   "cell_type": "code",
   "execution_count": 21,
   "metadata": {},
   "outputs": [
    {
     "name": "stdout",
     "output_type": "stream",
     "text": [
      "       <[V, T1]>                      =      0.003047425119\n",
      "       <[V, T1]> (error)              =      0.000000000000\n"
     ]
    }
   ],
   "source": [
    "R = 0.0\n",
    "R += 0.500000000 * np.einsum(\"weuv,xe,uvwx->\",Vt[\"avaa\"],T1[\"av\"],lambda2[\"aaaa\"])\n",
    "R += 0.500000000 * np.einsum(\"vwmu,mx,uxvw->\",Vt[\"aaca\"],T1[\"ca\"],lambda2[\"aaaa\"])\n",
    "\n",
    "E_V_T1 = R\n",
    "print(f'       <[V, T1]>                      ={R:20.12f}')\n",
    "print(f'       <[V, T1]> (error)              ={R-0.003047425118837:20.12f}')"
   ]
  },
  {
   "cell_type": "code",
   "execution_count": 22,
   "metadata": {},
   "outputs": [
    {
     "name": "stdout",
     "output_type": "stream",
     "text": [
      "       <[V, T2]> (C_2)^4              =     -0.005258080443\n",
      "       <[V, T2]> (C_2)^4 (error)      =      0.000000000000\n"
     ]
    }
   ],
   "source": [
    "R = 0.0\n",
    "R += 0.250000000 * np.einsum(\"efuv,wxef,uw,vx->\",Vt[\"vvaa\"],T2[\"aavv\"],gamma1[\"aa\"],gamma1[\"aa\"])\n",
    "R += 0.500000000 * np.einsum(\"weuv,yzxe,xw,uy,vz->\",Vt[\"avaa\"],T2[\"aaav\"],eta1[\"aa\"],gamma1[\"aa\"],gamma1[\"aa\"])\n",
    "R += 0.500000000 * np.einsum(\"efmu,mvef,uv->\",Vt[\"vvca\"],T2[\"cavv\"],gamma1[\"aa\"])\n",
    "R += 1.000000000 * np.einsum(\"vemu,mxwe,wv,ux->\",Vt[\"avca\"],T2[\"caav\"],eta1[\"aa\"],gamma1[\"aa\"])\n",
    "R += 0.500000000 * np.einsum(\"vwmu,mzxy,xv,yw,uz->\",Vt[\"aaca\"],T2[\"caaa\"],eta1[\"aa\"],eta1[\"aa\"],gamma1[\"aa\"])\n",
    "R += 0.250000000 * np.einsum(\"efmn,mnef->\",Vt[\"vvcc\"],T2[\"ccvv\"])\n",
    "R += 0.500000000 * np.einsum(\"uemn,mnve,vu->\",Vt[\"avcc\"],T2[\"ccav\"],eta1[\"aa\"])\n",
    "R += 0.250000000 * np.einsum(\"uvmn,mnwx,wu,xv->\",Vt[\"aacc\"],T2[\"ccaa\"],eta1[\"aa\"],eta1[\"aa\"])\n",
    "\n",
    "E_V_T2_1 = R \n",
    "print(f'       <[V, T2]> (C_2)^4              ={R:20.12f}')\n",
    "print(f'       <[V, T2]> (C_2)^4 (error)      ={R+0.005258080443085:20.12f}')"
   ]
  },
  {
   "cell_type": "code",
   "execution_count": 23,
   "metadata": {},
   "outputs": [
    {
     "name": "stdout",
     "output_type": "stream",
     "text": [
      "       <[V, T2]> C_4 (C_2)^2          =     -0.000630645318\n",
      "       <[V, T2]> C_4 (C_2)^2 (error)  =      0.000000000000\n"
     ]
    }
   ],
   "source": [
    "R = 0.0\n",
    "\n",
    "R += 0.125000000 * np.einsum(\"efuv,wxef,uvwx->\",Vt[\"vvaa\"],T2[\"aavv\"],lambda2[\"aaaa\"])\n",
    "R += 0.250000000 * np.einsum(\"weuv,yzxe,xw,uvyz->\",Vt[\"avaa\"],T2[\"aaav\"],eta1[\"aa\"],lambda2[\"aaaa\"])\n",
    "R += 1.000000000 * np.einsum(\"weuv,yzxe,uy,vxwz->\",Vt[\"avaa\"],T2[\"aaav\"],gamma1[\"aa\"],lambda2[\"aaaa\"])\n",
    "R += 1.000000000 * np.einsum(\"vemu,mxwe,uwvx->\",Vt[\"avca\"],T2[\"caav\"],lambda2[\"aaaa\"])\n",
    "R += 1.000000000 * np.einsum(\"vwmu,mzxy,xv,uywz->\",Vt[\"aaca\"],T2[\"caaa\"],eta1[\"aa\"],lambda2[\"aaaa\"])\n",
    "R += 0.250000000 * np.einsum(\"vwmu,mzxy,uz,xyvw->\",Vt[\"aaca\"],T2[\"caaa\"],gamma1[\"aa\"],lambda2[\"aaaa\"])\n",
    "R += 0.125000000 * np.einsum(\"uvmn,mnwx,wxuv->\",Vt[\"aacc\"],T2[\"ccaa\"],lambda2[\"aaaa\"])\n",
    "\n",
    "E_V_T2_2 = R \n",
    "print(f'       <[V, T2]> C_4 (C_2)^2          ={R:20.12f}')\n",
    "print(f'       <[V, T2]> C_4 (C_2)^2 (error)  ={R+0.000630645318:20.12f}')"
   ]
  },
  {
   "cell_type": "code",
   "execution_count": 24,
   "metadata": {},
   "outputs": [
    {
     "name": "stdout",
     "output_type": "stream",
     "text": [
      "       <[V, T2]> C_6 C_2              =      0.000426424806\n",
      "       <[V, T2]> C_6 C_2 (error)      =     -0.000000000000\n"
     ]
    }
   ],
   "source": [
    "R = 0.0\n",
    "\n",
    "R += -0.250000000 * np.einsum(\"weuv,yzxe,uvxwyz->\",Vt[\"avaa\"],T2[\"aaav\"],lambda3[\"aaaaaa\"])\n",
    "R += 0.250000000 * np.einsum(\"vwmu,mzxy,uxyvwz->\",Vt[\"aaca\"],T2[\"caaa\"],lambda3[\"aaaaaa\"])\n",
    "\n",
    "E_V_T2_3 = R \n",
    "\n",
    "print(f'       <[V, T2]> C_6 C_2              ={R:20.12f}')\n",
    "print(f'       <[V, T2]> C_6 C_2 (error)      ={R-0.000426424806109:20.12f}')"
   ]
  },
  {
   "cell_type": "code",
   "execution_count": 25,
   "metadata": {},
   "outputs": [
    {
     "name": "stdout",
     "output_type": "stream",
     "text": [
      "       DSRG-MRPT2 correlation energy  =     -0.001039887226\n",
      "       DSRG-MRPT2 correlation energy  =      0.000000000000 (error)\n",
      "       DSRG-MRPT2 total energy        =     -7.996956552668\n"
     ]
    }
   ],
   "source": [
    "Edsrg = E_F_T1 + E_F_T2 + E_V_T1 + E_V_T2_1 + E_V_T2_2 + E_V_T2_3\n",
    "print(f'       DSRG-MRPT2 correlation energy  ={Edsrg:20.12f}')\n",
    "print(f'       DSRG-MRPT2 correlation energy  ={Edsrg+0.001039887225811:20.12f} (error)')\n",
    "print(f'       DSRG-MRPT2 total energy        ={Eref+Edsrg:20.12f}')\n",
    "assert isclose(Edsrg,-0.001039887225811)\n",
    "assert isclose(Eref+Edsrg,-7.996956552668391)"
   ]
  },
  {
   "cell_type": "code",
   "execution_count": null,
   "metadata": {},
   "outputs": [],
   "source": []
  }
 ],
 "metadata": {
  "anaconda-cloud": {},
  "kernelspec": {
   "display_name": "Python 3 (ipykernel)",
   "language": "python",
   "name": "python3"
  },
  "language_info": {
   "codemirror_mode": {
    "name": "ipython",
    "version": 3
   },
   "file_extension": ".py",
   "mimetype": "text/x-python",
   "name": "python",
   "nbconvert_exporter": "python",
   "pygments_lexer": "ipython3",
   "version": "3.9.7"
  }
 },
 "nbformat": 4,
 "nbformat_minor": 1
}
