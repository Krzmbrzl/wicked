{
 "cells": [
  {
   "cell_type": "markdown",
   "metadata": {},
   "source": [
    "# Wick's Theorem in Wick&d\n",
    "\n",
    "In this example, we'll look at how to use wick&d's diagrammatic representation of operators and how to apply Wick's theorem.\n",
    "\n",
    "## Setup for a single Slater determinant reference "
   ]
  },
  {
   "cell_type": "code",
   "execution_count": 11,
   "metadata": {},
   "outputs": [],
   "source": [
    "import wicked as w\n",
    "from IPython.display import display, Math, Latex\n",
    "\n",
    "def latex(expr):\n",
    "    \"\"\"Function to render any object that has a member latex() function\"\"\"\n",
    "    display(Math(expr.latex()))\n",
    "    \n",
    "w.reset_space()\n",
    "w.add_space(\"o\", \"fermion\", \"occupied\", ['i','j','k','l','m'])\n",
    "w.add_space(\"v\", \"fermion\", \"unoccupied\", ['a','b','c','d','e','f'])\n",
    "w.add_space(\"g\", \"fermion\", \"general\", ['u','v','w','x','y','z'])    "
   ]
  },
  {
   "cell_type": "markdown",
   "metadata": {},
   "source": [
    "## Defining operators\n",
    "\n",
    "\\begin{equation}\n",
    "F = \\sum_{ij}^\\mathbb{O} f^{i}_{j} \\hat{a}_j^\\dagger \\hat{a}_i\n",
    "+ \\sum_i^\\mathbb{O} \\sum_a^\\mathbb{V} f^{a}_{i} \\hat{a}_i^\\dagger \\hat{a}_a\n",
    "+ \\sum_i^\\mathbb{O} \\sum_a^\\mathbb{V} f^{i}_{a} \\hat{a}_a^\\dagger \\hat{a}_i\n",
    "+ \\sum_{ab}^\\mathbb{V} f^{b}_{a} \\hat{a}_a^\\dagger \\hat{a}_b\n",
    "\\end{equation}\n",
    "\n",
    "\\begin{equation}\n",
    "T_1 = \\sum_i^\\mathbb{O} \\sum_a^\\mathbb{V} t^{i}_{a} \\hat{a}_a^\\dagger \\hat{a}_i\n",
    "\\end{equation}"
   ]
  },
  {
   "cell_type": "code",
   "execution_count": 16,
   "metadata": {
    "tags": []
   },
   "outputs": [],
   "source": [
    "F = w.op('f',['o+ o','o+ v','v+ o','v+ v'])\n",
    "T1 = w.op('t',['v+ o'])"
   ]
  },
  {
   "cell_type": "markdown",
   "metadata": {},
   "source": [
    "\\begin{equation}\n",
    "[F,T_1] = F T_1 - T_1 F\n",
    "\\end{equation}"
   ]
  },
  {
   "cell_type": "code",
   "execution_count": 13,
   "metadata": {},
   "outputs": [
    {
     "data": {
      "text/plain": [
       "+ f { v+ v } t { v+ o }\n",
       "+ f { v+ o } t { v+ o }\n",
       "+ f { o+ v } t { v+ o }\n",
       "+ f { o+ o } t { v+ o }\n",
       "- t { v+ o } f { v+ v }\n",
       "- t { v+ o } f { v+ o }\n",
       "- t { v+ o } f { o+ v }\n",
       "- t { v+ o } f { o+ o }"
      ]
     },
     "execution_count": 13,
     "metadata": {},
     "output_type": "execute_result"
    }
   ],
   "source": [
    "FT1 = w.commutator(F, T1)\n",
    "FT1"
   ]
  },
  {
   "cell_type": "code",
   "execution_count": 14,
   "metadata": {},
   "outputs": [
    {
     "data": {
      "text/plain": [
       "f^{v0}_{o0} t^{o0}_{v0}"
      ]
     },
     "execution_count": 14,
     "metadata": {},
     "output_type": "execute_result"
    }
   ],
   "source": [
    "wt = w.WickTheorem()\n",
    "eq0 = wt.contract(w.rational(1,1),FT1,0,0)\n",
    "eq0"
   ]
  },
  {
   "cell_type": "code",
   "execution_count": 15,
   "metadata": {},
   "outputs": [
    {
     "data": {
      "text/latex": [
       "$\\displaystyle + f^{a}_{i} t^{i}_{a}$"
      ],
      "text/plain": [
       "<IPython.core.display.Math object>"
      ]
     },
     "metadata": {},
     "output_type": "display_data"
    }
   ],
   "source": [
    "latex(eq0)"
   ]
  },
  {
   "cell_type": "code",
   "execution_count": 17,
   "metadata": {},
   "outputs": [
    {
     "data": {
      "text/plain": [
       "{'|': [r^{}_{} +=  f^{v0}_{o0} t^{o0}_{v0}]}"
      ]
     },
     "execution_count": 17,
     "metadata": {},
     "output_type": "execute_result"
    }
   ],
   "source": [
    "mbeq0 = eq0.to_manybody_equation('r')\n",
    "mbeq0"
   ]
  },
  {
   "cell_type": "code",
   "execution_count": 8,
   "metadata": {},
   "outputs": [
    {
     "data": {
      "text/latex": [
       "$\\displaystyle + f^{b}_{a} t^{i}_{b} \\hat{a}^{a} \\hat{a}_{i} \\\\ \n",
       "- f^{i}_{j} t^{j}_{a} \\hat{a}^{a} \\hat{a}_{i} \\\\ \n",
       "- f^{a}_{i} t^{i}_{b} \\hat{a}^{b} \\hat{a}_{a} \\\\ \n",
       "+ f^{a}_{i} t^{j}_{a} \\hat{a}^{i} \\hat{a}_{j}$"
      ],
      "text/plain": [
       "<IPython.core.display.Math object>"
      ]
     },
     "metadata": {},
     "output_type": "display_data"
    }
   ],
   "source": [
    "eq1 = wt.contract(w.rational(1,1),FT1,2,2)\n",
    "latex(eq1)"
   ]
  },
  {
   "cell_type": "code",
   "execution_count": 9,
   "metadata": {},
   "outputs": [
    {
     "data": {
      "text/plain": [
       "{'o|o': [r^{o1}_{o0} +=  f^{v0}_{o0} t^{o1}_{v0}],\n",
       " 'o|v': [r^{o0}_{v0} +=  f^{v1}_{v0} t^{o0}_{v1},\n",
       "  r^{o0}_{v0} += - f^{o0}_{o1} t^{o1}_{v0}],\n",
       " 'v|v': [r^{v0}_{v1} += - f^{v0}_{o0} t^{o0}_{v1}]}"
      ]
     },
     "execution_count": 9,
     "metadata": {},
     "output_type": "execute_result"
    }
   ],
   "source": [
    "mbeq1 = eq1.to_manybody_equation('r')\n",
    "mbeq1"
   ]
  },
  {
   "cell_type": "code",
   "execution_count": 10,
   "metadata": {},
   "outputs": [
    {
     "name": "stdout",
     "output_type": "stream",
     "text": [
      "rov += 1.000000000 * np.einsum(\"ba,ib->ia\",f[\"vv\"],t[\"ov\"])\n",
      "rov += -1.000000000 * np.einsum(\"ij,ja->ia\",f[\"oo\"],t[\"ov\"])\n"
     ]
    }
   ],
   "source": [
    "for term in mbeq1['o|v']:\n",
    "    print(term.compile('einsum'))"
   ]
  }
 ],
 "metadata": {
  "anaconda-cloud": {},
  "interpreter": {
   "hash": "88f88d9c6713632702ca46f35cc29abd40712363bdc79e6cb9f82b3a54331305"
  },
  "kernelspec": {
   "display_name": "Python 3 (ipykernel)",
   "language": "python",
   "name": "python3"
  },
  "language_info": {
   "codemirror_mode": {
    "name": "ipython",
    "version": 3
   },
   "file_extension": ".py",
   "mimetype": "text/x-python",
   "name": "python",
   "nbconvert_exporter": "python",
   "pygments_lexer": "ipython3",
   "version": "3.9.9"
  }
 },
 "nbformat": 4,
 "nbformat_minor": 4
}
