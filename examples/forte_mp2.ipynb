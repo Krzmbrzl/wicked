{
 "cells": [
  {
   "cell_type": "markdown",
   "id": "81579bfa",
   "metadata": {},
   "source": [
    "# MP2 theory for a closed-shell reference\n",
    "\n",
    "In this notebook we will use wicked to generate equations for the MP2 method (the orbital-invariant form)"
   ]
  },
  {
   "cell_type": "code",
   "execution_count": 1,
   "id": "83ee41fd",
   "metadata": {},
   "outputs": [],
   "source": [
    "import wicked as w"
   ]
  },
  {
   "cell_type": "code",
   "execution_count": 2,
   "id": "c423a60a",
   "metadata": {},
   "outputs": [
    {
     "name": "stdout",
     "output_type": "stream",
     "text": [
      "Defined the function:\n",
      "\n",
      "def evaluate_residual(F0,T2,V):\n",
      "    # contributions to the residual\n",
      "    Roovv = np.zeros((nocc,nocc,nvir,nvir))\n",
      "    Roovv += -2.000000000 * np.einsum(\"ca,ijbc->ijab\",F0[\"vv\"],T2[\"oovv\"])\n",
      "    Roovv += 2.000000000 * np.einsum(\"ik,jkab->ijab\",F0[\"oo\"],T2[\"oovv\"])\n",
      "    Roovv += 1.000000000 * np.einsum(\"ijab->ijab\",V[\"oovv\"])\n",
      "    return Roovv\n",
      "\n"
     ]
    }
   ],
   "source": [
    "w.reset_space()\n",
    "w.add_space(\"o\", \"fermion\", \"occupied\", [\"i\", \"j\", \"k\", \"l\", \"m\", \"n\"])\n",
    "w.add_space(\"v\", \"fermion\", \"unoccupied\", [\"a\", \"b\", \"c\", \"d\", \"e\", \"f\"])\n",
    "\n",
    "T2 = w.op(\"T2\", [\"v+ v+ o o\"])\n",
    "F0 = w.op(\"F0\", [\"o+ o\", \"v+ v\"])\n",
    "F1 = w.op(\"F1\", [\"o+ v\", \"v+ o\"])\n",
    "V1 = w.op(\n",
    "    \"V\",\n",
    "    [\n",
    "        \"o+ o+ o o\",\n",
    "        \"o+ o+ v o\",\n",
    "        \"o+ o+ v v\",\n",
    "        \"o+ v+ o o\",\n",
    "        \"o+ v+ v o\",\n",
    "        \"o+ v+ v v\",\n",
    "        \"v+ v+ o o\",\n",
    "        \"v+ v+ v o\",\n",
    "        \"v+ v+ v v\",\n",
    "    ],\n",
    ")\n",
    "\n",
    "wt = w.WickTheorem()\n",
    "\n",
    "expr = wt.contract(w.rational(1), w.commutator(F0, T2), 0, 4)\n",
    "expr += wt.contract(w.rational(1), V1, 0, 4)\n",
    "mbeq = expr.to_manybody_equation(\"R\")\n",
    "\n",
    "code = [\"def evaluate_residual(F0,T2,V):\",\n",
    "        \"    # contributions to the residual\",\n",
    "        \"    Roovv = np.zeros((nocc,nocc,nvir,nvir))\"]\n",
    "for eq in mbeq[4]:\n",
    "    contraction = eq.compile(\"einsum\")\n",
    "    if 'Roovv' in contraction:\n",
    "        code.append(f'    {contraction}')\n",
    "code.append(f'    return Roovv')\n",
    "funct = '\\n'.join(code)\n",
    "    \n",
    "print(f'Defined the function:\\n\\n{funct}\\n')\n",
    "exec(funct)"
   ]
  },
  {
   "cell_type": "code",
   "execution_count": 3,
   "id": "94d0db18",
   "metadata": {},
   "outputs": [],
   "source": [
    "# def spin_mask2(i,j):\n",
    "#     if (i % 2) == (j % 2):\n",
    "#         return 1\n",
    "#     return 0\n",
    "\n",
    "# def spin_mask4(i,j):\n",
    "#     if (i % 2) == (j % 2):\n",
    "#         return 1\n",
    "#     return 0\n",
    "\n",
    "# np.fromfunction(np.vectorize(spin_mask), (4, 4), dtype=int)"
   ]
  },
  {
   "cell_type": "code",
   "execution_count": 4,
   "id": "23b10ee4",
   "metadata": {},
   "outputs": [],
   "source": [
    "import psi4\n",
    "import forte\n",
    "import forte.utils\n",
    "from forte import forte_options\n",
    "import numpy as np"
   ]
  },
  {
   "cell_type": "markdown",
   "id": "5a2a1c3c",
   "metadata": {},
   "source": [
    "## Compute the Hartree–Fock and MP2 energy"
   ]
  },
  {
   "cell_type": "code",
   "execution_count": 5,
   "id": "e00b1627",
   "metadata": {},
   "outputs": [],
   "source": [
    "# setup xyz geometry for linear H4\n",
    "geometry = \"\"\"\n",
    "H 0.0 0.0 0.0\n",
    "H 0.0 0.0 1.0\n",
    "H 0.0 0.0 2.0\n",
    "H 0.0 0.0 3.0\n",
    "symmetry c1\n",
    "\"\"\"\n",
    "\n",
    "(Escf, psi4_wfn) = forte.utils.psi4_scf(geometry,\n",
    "                                        basis='sto-3g',\n",
    "                                        reference='rhf',\n",
    "                                        options={'E_CONVERGENCE' : 1.e-12})"
   ]
  },
  {
   "cell_type": "code",
   "execution_count": 6,
   "id": "64e8285b",
   "metadata": {
    "scrolled": true
   },
   "outputs": [
    {
     "name": "stdout",
     "output_type": "stream",
     "text": [
      "RHF energy:       -2.098545936830 Eh\n",
      "MP2 energy:       -2.139744024308 Eh\n",
      "MP2 corr. energy: -0.041198087478 Eh\n"
     ]
    }
   ],
   "source": [
    "psi4.set_options({'mp2_type': 'conv','freeze_core': True})\n",
    "Emp2_psi4 = psi4.energy('mp2')\n",
    "print(f\"RHF energy:       {Escf:.12f} Eh\")\n",
    "print(f\"MP2 energy:       {Emp2_psi4:.12f} Eh\")\n",
    "print(f\"MP2 corr. energy: {Emp2_psi4 - Escf:.12f} Eh\")"
   ]
  },
  {
   "cell_type": "markdown",
   "id": "56b521a8",
   "metadata": {},
   "source": [
    "## Prepare integrals for Forte"
   ]
  },
  {
   "cell_type": "code",
   "execution_count": 7,
   "id": "cbd666c9",
   "metadata": {},
   "outputs": [],
   "source": [
    "# Define the orbital spaces\n",
    "mo_spaces = {'RESTRICTED_DOCC': [2],'RESTRICTED_UOCC': [2]}\n",
    "\n",
    "# pass Psi4 options to Forte\n",
    "options = psi4.core.get_options()\n",
    "options.set_current_module('FORTE')\n",
    "forte_options.get_options_from_psi4(options)\n",
    "\n",
    "# Grab the number of MOs per irrep\n",
    "nmopi = psi4_wfn.nmopi()\n",
    "# Grab the point group symbol (e.g. \"C2V\")\n",
    "point_group = psi4_wfn.molecule().point_group().symbol()\n",
    "# create a MOSpaceInfo object\n",
    "mo_space_info = forte.make_mo_space_info_from_map(nmopi, point_group,mo_spaces, [])\n",
    "# make a ForteIntegral object\n",
    "ints = forte.make_ints_from_psi4(psi4_wfn, forte_options, mo_space_info)"
   ]
  },
  {
   "cell_type": "markdown",
   "id": "7622898d",
   "metadata": {},
   "source": [
    "## Define orbital spaces and dimensions"
   ]
  },
  {
   "cell_type": "code",
   "execution_count": 8,
   "id": "a8009e67",
   "metadata": {},
   "outputs": [],
   "source": [
    "occmos = mo_space_info.corr_absolute_mo('RESTRICTED_DOCC')\n",
    "virmos = mo_space_info.corr_absolute_mo('RESTRICTED_UOCC')\n",
    "allmos = mo_space_info.corr_absolute_mo('CORRELATED')\n",
    "nocc = 2 * len(occmos)\n",
    "nvir = 2 * len(virmos)"
   ]
  },
  {
   "cell_type": "markdown",
   "id": "167583ea",
   "metadata": {},
   "source": [
    "## Build the Fock matrix and the zeroth-order Fock matrix"
   ]
  },
  {
   "cell_type": "code",
   "execution_count": 9,
   "id": "43c12954",
   "metadata": {},
   "outputs": [],
   "source": [
    "# Build the Fock matrix blocks\n",
    "F = {'oo': forte.spinorbital_oei(ints,occmos, occmos),\n",
    "     'vv': forte.spinorbital_oei(ints,virmos, virmos),\n",
    "     'ov': forte.spinorbital_oei(ints,occmos, virmos)}\n",
    "\n",
    "# OO block\n",
    "v = forte.spinorbital_tei(ints,occmos,occmos,occmos, occmos)\n",
    "F['oo'] += np.einsum('piqi->pq', v)\n",
    "\n",
    "# VV block\n",
    "v = forte.spinorbital_tei(ints,virmos, occmos, virmos, occmos)\n",
    "F['vv'] += np.einsum('piqi->pq', v)\n",
    "\n",
    "# OV block\n",
    "v = forte.spinorbital_tei(ints, occmos, occmos, virmos, occmos)\n",
    "F['ov'] += np.einsum('piqi->pq', v)\n",
    "\n",
    "# Build the diagonal orbital energies\n",
    "Fdiag = {'oo': np.diag(F['oo']), 'vv': np.diag(F['vv'])}\n",
    "F0 = {'oo' : np.diag(Fdiag['oo']),'vv' : np.diag(Fdiag['vv']) }\n",
    "\n",
    "# Build the two-electron integrals\n",
    "V = {}\n",
    "V[\"oovv\"] = forte.spinorbital_tei(ints,occmos,occmos,virmos,virmos)"
   ]
  },
  {
   "cell_type": "markdown",
   "id": "769874c0",
   "metadata": {},
   "source": [
    "## Build the MP denominators"
   ]
  },
  {
   "cell_type": "code",
   "execution_count": 10,
   "id": "ce344147",
   "metadata": {},
   "outputs": [],
   "source": [
    "d2 = np.zeros((nocc,nocc,nvir,nvir))\n",
    "\n",
    "fo = Fdiag['oo']\n",
    "fv = Fdiag['vv']\n",
    "for i in range(nocc):\n",
    "    for j in range(nocc):\n",
    "        for a in range(nvir):\n",
    "            for b in range(nvir):\n",
    "                si = i % 2\n",
    "                sj = j % 2\n",
    "                sa = a % 2\n",
    "                sb = b % 2\n",
    "                if si == sj == sa == sb:\n",
    "                    d2[i][j][a][b] = 1.0 / (fo[i] + fo[j] - fv[a] - fv[b])\n",
    "                if si == sa and sj == sb and si != sj:\n",
    "                    d2[i][j][a][b] = 1.0 / (fo[i] + fo[j] - fv[a] - fv[b])\n",
    "                if si == sb and sj == sa and si != sj:\n",
    "                    d2[i][j][a][b] = 1.0 / (fo[i] + fo[j] - fv[a] - fv[b])"
   ]
  },
  {
   "cell_type": "code",
   "execution_count": 11,
   "id": "afb93fee",
   "metadata": {},
   "outputs": [
    {
     "name": "stdout",
     "output_type": "stream",
     "text": [
      "MP2 corr. energy: -0.041198087478 Eh\n"
     ]
    }
   ],
   "source": [
    "# Compute the MP2 correlation energy\n",
    "Emp2 = 0.0\n",
    "for i in range(nocc):\n",
    "    for j in range(nocc):\n",
    "        for a in range(nvir):\n",
    "            for b in range(nvir):\n",
    "                Emp2 += 0.25 * V[\"oovv\"][i][j][a][b] ** 2 / (fo[i] + fo[j] - fv[a] - fv[b])\n",
    "print(f\"MP2 corr. energy: {Emp2:.12f} Eh\")"
   ]
  },
  {
   "cell_type": "code",
   "execution_count": 12,
   "id": "9bc86ae2",
   "metadata": {},
   "outputs": [],
   "source": [
    "def antisymmetrize_residual(Roovv):\n",
    "    # antisymmetrize the residual\n",
    "    Roovv_anti = np.zeros((nocc,nocc,nvir,nvir))\n",
    "    Roovv_anti += 0.25 * np.einsum(\"ijab->ijab\",Roovv)\n",
    "    Roovv_anti -= 0.25 * np.einsum(\"ijab->jiab\",Roovv)\n",
    "    Roovv_anti -= 0.25 * np.einsum(\"ijab->ijba\",Roovv)\n",
    "    Roovv_anti += 0.25 * np.einsum(\"ijab->jiba\",Roovv)    \n",
    "    return Roovv_anti\n",
    "\n",
    "def update_amplitudes(T2,R,d2):\n",
    "    T2[\"oovv\"] += np.einsum(\"ijab,ijab->ijab\",R,d2)\n",
    "    \n",
    "def compute_energy(T2,V):\n",
    "    energy = 0.25 * np.einsum('ijab,ijab->', V[\"oovv\"], T2[\"oovv\"])\n",
    "    return energy"
   ]
  },
  {
   "cell_type": "code",
   "execution_count": 14,
   "id": "b1183237",
   "metadata": {},
   "outputs": [
    {
     "name": "stdout",
     "output_type": "stream",
     "text": [
      "0 -0.041198087478 0.5657445801720744\n",
      "1 -0.041198087478 3.408190865706543e-17\n",
      "MP2 corr. energy: -0.041198087478 Eh\n",
      "Err corr. energy: +0.000000000000 Eh\n"
     ]
    }
   ],
   "source": [
    "T2 = {}\n",
    "T2[\"oovv\"] = np.zeros((nocc,nocc,nvir,nvir))\n",
    "\n",
    "maxiter = 10\n",
    "for i in range(maxiter):\n",
    "    Roovv = evaluate_residual(F0,T2,V)\n",
    "    Roovv = antisymmetrize_residual(Roovv)\n",
    "    update_amplitudes(T2,Roovv,d2)\n",
    "    Emp2_wicked = compute_energy(T2,V)\n",
    "    \n",
    "    # check for convergence\n",
    "    norm_R = np.linalg.norm(Roovv)\n",
    "    print(f\"{i} {Emp2_wicked:+.12f} {norm_R}\") \n",
    "    \n",
    "    if norm_R < 1.0e-9:\n",
    "        break\n",
    "    \n",
    "print(f\"MP2 corr. energy: {Emp2_wicked:+.12f} Eh\")\n",
    "print(f\"Err corr. energy: {Emp2_wicked - Emp2:+.12f} Eh\")"
   ]
  }
 ],
 "metadata": {
  "kernelspec": {
   "display_name": "Python 3 (ipykernel)",
   "language": "python",
   "name": "python3"
  },
  "language_info": {
   "codemirror_mode": {
    "name": "ipython",
    "version": 3
   },
   "file_extension": ".py",
   "mimetype": "text/x-python",
   "name": "python",
   "nbconvert_exporter": "python",
   "pygments_lexer": "ipython3",
   "version": "3.9.7"
  }
 },
 "nbformat": 4,
 "nbformat_minor": 5
}
