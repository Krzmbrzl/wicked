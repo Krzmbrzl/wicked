{
 "cells": [
  {
   "cell_type": "markdown",
   "id": "183f8d46",
   "metadata": {},
   "source": [
    "# Wick&d Tutorial Introduction\n",
    "\n",
    "The following is a list of tutorials"
   ]
  },
  {
   "cell_type": "markdown",
   "id": "e244dd5d",
   "metadata": {},
   "source": [
    "1. [Basics of wick&d](01-Basics.ipynb)\n",
    "1. [Operators in wick&d](02-Operators.ipynb)"
   ]
  }
 ],
 "metadata": {
  "kernelspec": {
   "display_name": "Python 3.9 (forte)",
   "language": "python",
   "name": "forte"
  },
  "language_info": {
   "codemirror_mode": {
    "name": "ipython",
    "version": 3
   },
   "file_extension": ".py",
   "mimetype": "text/x-python",
   "name": "python",
   "nbconvert_exporter": "python",
   "pygments_lexer": "ipython3",
   "version": "3.9.9"
  }
 },
 "nbformat": 4,
 "nbformat_minor": 5
}
